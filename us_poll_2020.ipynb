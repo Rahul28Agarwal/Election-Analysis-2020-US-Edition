{
 "cells": [
  {
   "attachments": {},
   "cell_type": "markdown",
   "metadata": {},
   "source": [
    "## 2020 US election forecasting using polling data for simulations"
   ]
  },
  {
   "attachments": {},
   "cell_type": "markdown",
   "metadata": {},
   "source": [
    "### 1. Understanding our Dataset"
   ]
  },
  {
   "cell_type": "code",
   "execution_count": 1,
   "metadata": {},
   "outputs": [
    {
     "data": {
      "text/html": [
       "<div>\n",
       "<style scoped>\n",
       "    .dataframe tbody tr th:only-of-type {\n",
       "        vertical-align: middle;\n",
       "    }\n",
       "\n",
       "    .dataframe tbody tr th {\n",
       "        vertical-align: top;\n",
       "    }\n",
       "\n",
       "    .dataframe thead th {\n",
       "        text-align: right;\n",
       "    }\n",
       "</style>\n",
       "<table border=\"1\" class=\"dataframe\">\n",
       "  <thead>\n",
       "    <tr style=\"text-align: right;\">\n",
       "      <th></th>\n",
       "      <th>question_id</th>\n",
       "      <th>poll_id</th>\n",
       "      <th>cycle</th>\n",
       "      <th>state</th>\n",
       "      <th>pollster_id</th>\n",
       "      <th>pollster</th>\n",
       "      <th>sponsor_ids</th>\n",
       "      <th>sponsors</th>\n",
       "      <th>display_name</th>\n",
       "      <th>pollster_rating_id</th>\n",
       "      <th>...</th>\n",
       "      <th>created_at</th>\n",
       "      <th>notes</th>\n",
       "      <th>url</th>\n",
       "      <th>stage</th>\n",
       "      <th>race_id</th>\n",
       "      <th>answer</th>\n",
       "      <th>candidate_id</th>\n",
       "      <th>candidate_name</th>\n",
       "      <th>candidate_party</th>\n",
       "      <th>pct</th>\n",
       "    </tr>\n",
       "  </thead>\n",
       "  <tbody>\n",
       "    <tr>\n",
       "      <th>0</th>\n",
       "      <td>133816</td>\n",
       "      <td>71450</td>\n",
       "      <td>2020</td>\n",
       "      <td>Ohio</td>\n",
       "      <td>399</td>\n",
       "      <td>Rasmussen Reports/Pulse Opinion Research</td>\n",
       "      <td>NaN</td>\n",
       "      <td>NaN</td>\n",
       "      <td>Rasmussen Reports/Pulse Opinion Research</td>\n",
       "      <td>277.0</td>\n",
       "      <td>...</td>\n",
       "      <td>10/20/20 10:30</td>\n",
       "      <td>NaN</td>\n",
       "      <td>https://www.rasmussenreports.com/public_conten...</td>\n",
       "      <td>general</td>\n",
       "      <td>6246</td>\n",
       "      <td>Biden</td>\n",
       "      <td>13256</td>\n",
       "      <td>Joseph R. Biden Jr.</td>\n",
       "      <td>DEM</td>\n",
       "      <td>48.0</td>\n",
       "    </tr>\n",
       "    <tr>\n",
       "      <th>1</th>\n",
       "      <td>133816</td>\n",
       "      <td>71450</td>\n",
       "      <td>2020</td>\n",
       "      <td>Ohio</td>\n",
       "      <td>399</td>\n",
       "      <td>Rasmussen Reports/Pulse Opinion Research</td>\n",
       "      <td>NaN</td>\n",
       "      <td>NaN</td>\n",
       "      <td>Rasmussen Reports/Pulse Opinion Research</td>\n",
       "      <td>277.0</td>\n",
       "      <td>...</td>\n",
       "      <td>10/20/20 10:30</td>\n",
       "      <td>NaN</td>\n",
       "      <td>https://www.rasmussenreports.com/public_conten...</td>\n",
       "      <td>general</td>\n",
       "      <td>6246</td>\n",
       "      <td>Trump</td>\n",
       "      <td>13254</td>\n",
       "      <td>Donald Trump</td>\n",
       "      <td>REP</td>\n",
       "      <td>47.0</td>\n",
       "    </tr>\n",
       "    <tr>\n",
       "      <th>2</th>\n",
       "      <td>133838</td>\n",
       "      <td>71457</td>\n",
       "      <td>2020</td>\n",
       "      <td>Pennsylvania</td>\n",
       "      <td>399</td>\n",
       "      <td>Rasmussen Reports/Pulse Opinion Research</td>\n",
       "      <td>NaN</td>\n",
       "      <td>NaN</td>\n",
       "      <td>Rasmussen Reports/Pulse Opinion Research</td>\n",
       "      <td>277.0</td>\n",
       "      <td>...</td>\n",
       "      <td>10/20/20 13:21</td>\n",
       "      <td>NaN</td>\n",
       "      <td>https://www.rasmussenreports.com/public_conten...</td>\n",
       "      <td>general</td>\n",
       "      <td>6249</td>\n",
       "      <td>Biden</td>\n",
       "      <td>13256</td>\n",
       "      <td>Joseph R. Biden Jr.</td>\n",
       "      <td>DEM</td>\n",
       "      <td>50.0</td>\n",
       "    </tr>\n",
       "    <tr>\n",
       "      <th>3</th>\n",
       "      <td>133838</td>\n",
       "      <td>71457</td>\n",
       "      <td>2020</td>\n",
       "      <td>Pennsylvania</td>\n",
       "      <td>399</td>\n",
       "      <td>Rasmussen Reports/Pulse Opinion Research</td>\n",
       "      <td>NaN</td>\n",
       "      <td>NaN</td>\n",
       "      <td>Rasmussen Reports/Pulse Opinion Research</td>\n",
       "      <td>277.0</td>\n",
       "      <td>...</td>\n",
       "      <td>10/20/20 13:21</td>\n",
       "      <td>NaN</td>\n",
       "      <td>https://www.rasmussenreports.com/public_conten...</td>\n",
       "      <td>general</td>\n",
       "      <td>6249</td>\n",
       "      <td>Trump</td>\n",
       "      <td>13254</td>\n",
       "      <td>Donald Trump</td>\n",
       "      <td>REP</td>\n",
       "      <td>47.0</td>\n",
       "    </tr>\n",
       "    <tr>\n",
       "      <th>4</th>\n",
       "      <td>133777</td>\n",
       "      <td>71435</td>\n",
       "      <td>2020</td>\n",
       "      <td>Georgia</td>\n",
       "      <td>1102</td>\n",
       "      <td>Emerson College</td>\n",
       "      <td>1446</td>\n",
       "      <td>NewsNation</td>\n",
       "      <td>Emerson College</td>\n",
       "      <td>88.0</td>\n",
       "      <td>...</td>\n",
       "      <td>10/19/20 20:06</td>\n",
       "      <td>NaN</td>\n",
       "      <td>https://emersonpolling.reportablenews.com/pr/g...</td>\n",
       "      <td>general</td>\n",
       "      <td>6221</td>\n",
       "      <td>Biden</td>\n",
       "      <td>13256</td>\n",
       "      <td>Joseph R. Biden Jr.</td>\n",
       "      <td>DEM</td>\n",
       "      <td>47.0</td>\n",
       "    </tr>\n",
       "  </tbody>\n",
       "</table>\n",
       "<p>5 rows × 38 columns</p>\n",
       "</div>"
      ],
      "text/plain": [
       "   question_id  poll_id  cycle         state  pollster_id  \\\n",
       "0       133816    71450   2020          Ohio          399   \n",
       "1       133816    71450   2020          Ohio          399   \n",
       "2       133838    71457   2020  Pennsylvania          399   \n",
       "3       133838    71457   2020  Pennsylvania          399   \n",
       "4       133777    71435   2020       Georgia         1102   \n",
       "\n",
       "                                   pollster sponsor_ids    sponsors  \\\n",
       "0  Rasmussen Reports/Pulse Opinion Research         NaN         NaN   \n",
       "1  Rasmussen Reports/Pulse Opinion Research         NaN         NaN   \n",
       "2  Rasmussen Reports/Pulse Opinion Research         NaN         NaN   \n",
       "3  Rasmussen Reports/Pulse Opinion Research         NaN         NaN   \n",
       "4                           Emerson College        1446  NewsNation   \n",
       "\n",
       "                               display_name  pollster_rating_id  ...  \\\n",
       "0  Rasmussen Reports/Pulse Opinion Research               277.0  ...   \n",
       "1  Rasmussen Reports/Pulse Opinion Research               277.0  ...   \n",
       "2  Rasmussen Reports/Pulse Opinion Research               277.0  ...   \n",
       "3  Rasmussen Reports/Pulse Opinion Research               277.0  ...   \n",
       "4                           Emerson College                88.0  ...   \n",
       "\n",
       "       created_at notes                                                url  \\\n",
       "0  10/20/20 10:30   NaN  https://www.rasmussenreports.com/public_conten...   \n",
       "1  10/20/20 10:30   NaN  https://www.rasmussenreports.com/public_conten...   \n",
       "2  10/20/20 13:21   NaN  https://www.rasmussenreports.com/public_conten...   \n",
       "3  10/20/20 13:21   NaN  https://www.rasmussenreports.com/public_conten...   \n",
       "4  10/19/20 20:06   NaN  https://emersonpolling.reportablenews.com/pr/g...   \n",
       "\n",
       "     stage race_id answer candidate_id       candidate_name  candidate_party  \\\n",
       "0  general    6246  Biden        13256  Joseph R. Biden Jr.              DEM   \n",
       "1  general    6246  Trump        13254         Donald Trump              REP   \n",
       "2  general    6249  Biden        13256  Joseph R. Biden Jr.              DEM   \n",
       "3  general    6249  Trump        13254         Donald Trump              REP   \n",
       "4  general    6221  Biden        13256  Joseph R. Biden Jr.              DEM   \n",
       "\n",
       "    pct  \n",
       "0  48.0  \n",
       "1  47.0  \n",
       "2  50.0  \n",
       "3  47.0  \n",
       "4  47.0  \n",
       "\n",
       "[5 rows x 38 columns]"
      ]
     },
     "execution_count": 1,
     "metadata": {},
     "output_type": "execute_result"
    }
   ],
   "source": [
    "import pandas as pd\n",
    "import numpy as np\n",
    "#  Read the csv file\n",
    "df = pd.read_csv(\"us_poll_2020.csv\")\n",
    "df.head()"
   ]
  },
  {
   "cell_type": "markdown",
   "metadata": {},
   "source": []
  },
  {
   "cell_type": "code",
   "execution_count": 2,
   "metadata": {},
   "outputs": [
    {
     "name": "stdout",
     "output_type": "stream",
     "text": [
      "Number of rows = 11909 and number of columns = 38\n",
      "Index(['question_id', 'poll_id', 'cycle', 'state', 'pollster_id', 'pollster',\n",
      "       'sponsor_ids', 'sponsors', 'display_name', 'pollster_rating_id',\n",
      "       'pollster_rating_name', 'fte_grade', 'sample_size', 'population',\n",
      "       'population_full', 'methodology', 'office_type', 'seat_number',\n",
      "       'seat_name', 'start_date', 'end_date', 'election_date',\n",
      "       'sponsor_candidate', 'internal', 'partisan', 'tracking',\n",
      "       'nationwide_batch', 'ranked_choice_reallocated', 'created_at', 'notes',\n",
      "       'url', 'stage', 'race_id', 'answer', 'candidate_id', 'candidate_name',\n",
      "       'candidate_party', 'pct'],\n",
      "      dtype='object')\n"
     ]
    }
   ],
   "source": [
    "print(\"Number of rows = {} and number of columns = {}\".format(df.shape[0], df.shape[1]))\n",
    "print(df.columns)"
   ]
  },
  {
   "attachments": {},
   "cell_type": "markdown",
   "metadata": {},
   "source": [
    "| Colum|Description|  \n",
    "|---|---|\n",
    "| candidate_name\t  |   The candidate for this answer choice| \n",
    "| start_date  |  The first day interviews were conducted for this poll | \n",
    "|end_date   | The last day interviews were conducted for this poll  |\n",
    "|pollster|The name of the pollster|\n",
    "|samplesize|The size of the sample|\n",
    "|population|Whether the population interviewed was adults, registered voters, or likely voters|\n",
    "|weight|A relative weight that describes how much this poll factors into the forecast relative to other polls|\n",
    "|influence|A relative weight that describes how much this poll factors into today's the forecast (similar to \"weight\", but also takes into account how old the poll is)|\n",
    "|pct|Voteshare for this candidate in this poll|\n",
    "|house_adjusted_pct|\tVoteshare in this poll after applying the house adjustment|\n",
    "|trend_and_house_adjusted_pct|Voteshare in this poll after applying both house and trendline adjustments|\n",
    "|tracking|Whether or not the poll sample overlaps with other polls in our database|\n",
    "|poll_id|Unique identifier for a poll|\n",
    "|question_id|Unique identifier for a question|\n",
    "\n"
   ]
  },
  {
   "attachments": {},
   "cell_type": "markdown",
   "metadata": {},
   "source": [
    "Although there are many useful  variables, we do not need all of them for our analysis."
   ]
  },
  {
   "cell_type": "code",
   "execution_count": 3,
   "metadata": {},
   "outputs": [
    {
     "data": {
      "text/html": [
       "<div>\n",
       "<style scoped>\n",
       "    .dataframe tbody tr th:only-of-type {\n",
       "        vertical-align: middle;\n",
       "    }\n",
       "\n",
       "    .dataframe tbody tr th {\n",
       "        vertical-align: top;\n",
       "    }\n",
       "\n",
       "    .dataframe thead th {\n",
       "        text-align: right;\n",
       "    }\n",
       "</style>\n",
       "<table border=\"1\" class=\"dataframe\">\n",
       "  <thead>\n",
       "    <tr style=\"text-align: right;\">\n",
       "      <th></th>\n",
       "      <th>answer</th>\n",
       "      <th>start_date</th>\n",
       "      <th>end_date</th>\n",
       "      <th>state</th>\n",
       "      <th>pct</th>\n",
       "      <th>pollster</th>\n",
       "      <th>question_id</th>\n",
       "      <th>poll_id</th>\n",
       "    </tr>\n",
       "  </thead>\n",
       "  <tbody>\n",
       "    <tr>\n",
       "      <th>0</th>\n",
       "      <td>Biden</td>\n",
       "      <td>10/18/20</td>\n",
       "      <td>10/19/20</td>\n",
       "      <td>Ohio</td>\n",
       "      <td>48.0</td>\n",
       "      <td>Rasmussen Reports/Pulse Opinion Research</td>\n",
       "      <td>133816</td>\n",
       "      <td>71450</td>\n",
       "    </tr>\n",
       "    <tr>\n",
       "      <th>1</th>\n",
       "      <td>Trump</td>\n",
       "      <td>10/18/20</td>\n",
       "      <td>10/19/20</td>\n",
       "      <td>Ohio</td>\n",
       "      <td>47.0</td>\n",
       "      <td>Rasmussen Reports/Pulse Opinion Research</td>\n",
       "      <td>133816</td>\n",
       "      <td>71450</td>\n",
       "    </tr>\n",
       "    <tr>\n",
       "      <th>2</th>\n",
       "      <td>Biden</td>\n",
       "      <td>10/18/20</td>\n",
       "      <td>10/19/20</td>\n",
       "      <td>Pennsylvania</td>\n",
       "      <td>50.0</td>\n",
       "      <td>Rasmussen Reports/Pulse Opinion Research</td>\n",
       "      <td>133838</td>\n",
       "      <td>71457</td>\n",
       "    </tr>\n",
       "    <tr>\n",
       "      <th>3</th>\n",
       "      <td>Trump</td>\n",
       "      <td>10/18/20</td>\n",
       "      <td>10/19/20</td>\n",
       "      <td>Pennsylvania</td>\n",
       "      <td>47.0</td>\n",
       "      <td>Rasmussen Reports/Pulse Opinion Research</td>\n",
       "      <td>133838</td>\n",
       "      <td>71457</td>\n",
       "    </tr>\n",
       "    <tr>\n",
       "      <th>4</th>\n",
       "      <td>Biden</td>\n",
       "      <td>10/17/20</td>\n",
       "      <td>10/19/20</td>\n",
       "      <td>Georgia</td>\n",
       "      <td>47.0</td>\n",
       "      <td>Emerson College</td>\n",
       "      <td>133777</td>\n",
       "      <td>71435</td>\n",
       "    </tr>\n",
       "  </tbody>\n",
       "</table>\n",
       "</div>"
      ],
      "text/plain": [
       "  answer start_date  end_date         state   pct  \\\n",
       "0  Biden   10/18/20  10/19/20          Ohio  48.0   \n",
       "1  Trump   10/18/20  10/19/20          Ohio  47.0   \n",
       "2  Biden   10/18/20  10/19/20  Pennsylvania  50.0   \n",
       "3  Trump   10/18/20  10/19/20  Pennsylvania  47.0   \n",
       "4  Biden   10/17/20  10/19/20       Georgia  47.0   \n",
       "\n",
       "                                   pollster  question_id  poll_id  \n",
       "0  Rasmussen Reports/Pulse Opinion Research       133816    71450  \n",
       "1  Rasmussen Reports/Pulse Opinion Research       133816    71450  \n",
       "2  Rasmussen Reports/Pulse Opinion Research       133838    71457  \n",
       "3  Rasmussen Reports/Pulse Opinion Research       133838    71457  \n",
       "4                           Emerson College       133777    71435  "
      ]
     },
     "execution_count": 3,
     "metadata": {},
     "output_type": "execute_result"
    }
   ],
   "source": [
    "# Select the required columns\n",
    "df = df.loc[:, ['answer', 'start_date', 'end_date', 'state', 'pct', 'pollster', 'question_id', 'poll_id']]\n",
    "df.head()"
   ]
  },
  {
   "attachments": {},
   "cell_type": "markdown",
   "metadata": {},
   "source": [
    "Next, we will examine the data type of each column"
   ]
  },
  {
   "cell_type": "code",
   "execution_count": 4,
   "metadata": {},
   "outputs": [
    {
     "name": "stdout",
     "output_type": "stream",
     "text": [
      "<class 'pandas.core.frame.DataFrame'>\n",
      "RangeIndex: 11909 entries, 0 to 11908\n",
      "Data columns (total 8 columns):\n",
      " #   Column       Non-Null Count  Dtype  \n",
      "---  ------       --------------  -----  \n",
      " 0   answer       11909 non-null  object \n",
      " 1   start_date   11909 non-null  object \n",
      " 2   end_date     11909 non-null  object \n",
      " 3   state        7363 non-null   object \n",
      " 4   pct          11909 non-null  float64\n",
      " 5   pollster     11909 non-null  object \n",
      " 6   question_id  11909 non-null  int64  \n",
      " 7   poll_id      11909 non-null  int64  \n",
      "dtypes: float64(1), int64(2), object(5)\n",
      "memory usage: 744.4+ KB\n"
     ]
    }
   ],
   "source": [
    "df.info()"
   ]
  },
  {
   "attachments": {},
   "cell_type": "markdown",
   "metadata": {},
   "source": [
    "Based on the above information, we can conclude that:\n",
    "1. The data type of the start and end date columns needs to be changed\n",
    "2. There are many missing values in the state column"
   ]
  },
  {
   "cell_type": "code",
   "execution_count": 5,
   "metadata": {},
   "outputs": [
    {
     "name": "stdout",
     "output_type": "stream",
     "text": [
      "<class 'pandas.core.frame.DataFrame'>\n",
      "RangeIndex: 11909 entries, 0 to 11908\n",
      "Data columns (total 8 columns):\n",
      " #   Column       Non-Null Count  Dtype         \n",
      "---  ------       --------------  -----         \n",
      " 0   answer       11909 non-null  object        \n",
      " 1   start_date   11909 non-null  datetime64[ns]\n",
      " 2   end_date     11909 non-null  datetime64[ns]\n",
      " 3   state        7363 non-null   object        \n",
      " 4   pct          11909 non-null  float64       \n",
      " 5   pollster     11909 non-null  object        \n",
      " 6   question_id  11909 non-null  int64         \n",
      " 7   poll_id      11909 non-null  int64         \n",
      "dtypes: datetime64[ns](2), float64(1), int64(2), object(3)\n",
      "memory usage: 744.4+ KB\n"
     ]
    }
   ],
   "source": [
    "# Converting the data type of the start and end date columns\n",
    "df = (df\n",
    "      .assign(start_date = pd.to_datetime(df[\"start_date\"]),\n",
    "              end_date = pd.to_datetime(df['end_date']))\n",
    "    )\n",
    "df.info()"
   ]
  },
  {
   "attachments": {},
   "cell_type": "markdown",
   "metadata": {},
   "source": [
    "### Data Cleaning and Exploring.\n",
    "We will begin our data exploration by describing the numerical variables and examining the categorical variables. Additionally, we will review the date time columns and filter for the required dates."
   ]
  },
  {
   "cell_type": "code",
   "execution_count": 6,
   "metadata": {},
   "outputs": [
    {
     "data": {
      "text/plain": [
       "count    11909.000000\n",
       "mean        43.335947\n",
       "std         12.748563\n",
       "min          0.000000\n",
       "25%         41.000000\n",
       "50%         45.000000\n",
       "75%         50.000000\n",
       "max         90.530000\n",
       "Name: pct, dtype: float64"
      ]
     },
     "execution_count": 6,
     "metadata": {},
     "output_type": "execute_result"
    }
   ],
   "source": [
    "df.pct.describe()"
   ]
  },
  {
   "cell_type": "code",
   "execution_count": 7,
   "metadata": {},
   "outputs": [
    {
     "name": "stdout",
     "output_type": "stream",
     "text": [
      "The total number of candidate in 2020 = 50\n"
     ]
    },
    {
     "data": {
      "text/plain": [
       "Trump            5520\n",
       "Biden            4007\n",
       "Sanders           435\n",
       "Warren            348\n",
       "Jorgensen         347\n",
       "Hawkins           253\n",
       "Buttigieg         233\n",
       "Harris            158\n",
       "Bloomberg         103\n",
       "Klobuchar          76\n",
       "O'Rourke           59\n",
       "Pence              57\n",
       "West               41\n",
       "Booker             34\n",
       "Schultz            30\n",
       "Haley              20\n",
       "Castro             17\n",
       "Yang               16\n",
       "Amash              13\n",
       "Blankenship        13\n",
       "Steyer             11\n",
       "Gillibrand         11\n",
       "Gabbard            10\n",
       "Williamson          8\n",
       "De La Fuente        8\n",
       "Delaney             7\n",
       "Hickenlooper        6\n",
       "Inslee              6\n",
       "Obama               6\n",
       "de Blasio           5\n",
       "Messam              5\n",
       "Bullock             4\n",
       "Moulton             4\n",
       "Clinton             4\n",
       "Gravel              4\n",
       "Pierce              4\n",
       "Bennet              3\n",
       "Winfrey             3\n",
       "Swalwell            3\n",
       "Brown               3\n",
       "Simmons             2\n",
       "La Riva             2\n",
       "Ryan                2\n",
       "Pelosi              2\n",
       "Hornberger          1\n",
       "Cuomo               1\n",
       "Kennedy             1\n",
       "Rapinoe             1\n",
       "Schumer             1\n",
       "Ocasio-Cortez       1\n",
       "Name: answer, dtype: int64"
      ]
     },
     "execution_count": 7,
     "metadata": {},
     "output_type": "execute_result"
    }
   ],
   "source": [
    "print(\"The total number of candidate in 2020 = {}\".format(len(df.answer.unique())))\n",
    "df.answer.value_counts()"
   ]
  },
  {
   "attachments": {},
   "cell_type": "markdown",
   "metadata": {},
   "source": [
    "There are a total of 50 candidates, but only Trump and Biden are considered major candidates. Therefore, for the purpose of our analysis, we will focus on Trump and Biden. \n"
   ]
  },
  {
   "cell_type": "code",
   "execution_count": 8,
   "metadata": {},
   "outputs": [
    {
     "data": {
      "text/plain": [
       "Trump    5520\n",
       "Biden    4007\n",
       "Name: answer, dtype: int64"
      ]
     },
     "execution_count": 8,
     "metadata": {},
     "output_type": "execute_result"
    }
   ],
   "source": [
    "df = (df\n",
    "      .query(\"answer in ['Trump', 'Biden']\"))\n",
    "df.answer.value_counts()"
   ]
  },
  {
   "cell_type": "code",
   "execution_count": 9,
   "metadata": {},
   "outputs": [
    {
     "name": "stdout",
     "output_type": "stream",
     "text": [
      " The minimum and maximum poll start dates are 2018-11-12 00:00:00 and 2020-10-18 00:00:00 respectively\n",
      " The minimum and maximum poll end dates are 2018-11-13 00:00:00 and 2020-10-19 00:00:00 respectively\n"
     ]
    }
   ],
   "source": [
    "print(\" The minimum and maximum poll start dates are {} and {} respectively\".format(df.start_date.min(), df.start_date.max()))\n",
    "print(\" The minimum and maximum poll end dates are {} and {} respectively\".format(df.end_date.min(), df.end_date.max()))"
   ]
  },
  {
   "attachments": {},
   "cell_type": "markdown",
   "metadata": {},
   "source": [
    "For the purpose of our analysis, we will consider poll data that starts or ends between August 1st. 2020 and November 2nd, 2020"
   ]
  },
  {
   "cell_type": "code",
   "execution_count": 10,
   "metadata": {},
   "outputs": [
    {
     "name": "stdout",
     "output_type": "stream",
     "text": [
      " The minimum and maximum poll start dates are 2020-08-01 00:00:00 and 2020-10-18 00:00:00 respectively\n",
      " The minimum and maximum poll end dates are 2020-08-03 00:00:00 and 2020-10-19 00:00:00 respectively\n"
     ]
    }
   ],
   "source": [
    "start_date = '2020-08-01'\n",
    "end_date = '2020-11-02'\n",
    "df = (df\n",
    "      .query(\"start_date>=@start_date & end_date<=@end_date\"))\n",
    "print(\" The minimum and maximum poll start dates are {} and {} respectively\".format(df.start_date.min(), df.start_date.max()))\n",
    "print(\" The minimum and maximum poll end dates are {} and {} respectively\".format(df.end_date.min(), df.end_date.max()))"
   ]
  },
  {
   "cell_type": "code",
   "execution_count": 11,
   "metadata": {},
   "outputs": [
    {
     "name": "stdout",
     "output_type": "stream",
     "text": [
      "Now the total number of rows and columns are 4648 and 8 respectively\n"
     ]
    }
   ],
   "source": [
    "print(\"Now the total number of rows and columns are {} and {} respectively\".format(df.shape[0], df.shape[1]))"
   ]
  },
  {
   "attachments": {},
   "cell_type": "markdown",
   "metadata": {},
   "source": [
    "Let's examine the null values in the state column. "
   ]
  },
  {
   "cell_type": "code",
   "execution_count": 12,
   "metadata": {},
   "outputs": [
    {
     "name": "stdout",
     "output_type": "stream",
     "text": [
      "The total number of states in our data are = 55\n"
     ]
    },
    {
     "data": {
      "text/plain": [
       "Wisconsin               228\n",
       "Pennsylvania            186\n",
       "North Carolina          164\n",
       "Florida                 152\n",
       "Arizona                 148\n",
       "Michigan                138\n",
       "Georgia                 102\n",
       "Texas                    92\n",
       "Ohio                     80\n",
       "Minnesota                76\n",
       "Iowa                     66\n",
       "Colorado                 62\n",
       "New Hampshire            58\n",
       "Maine                    58\n",
       "South Carolina           56\n",
       "Nevada                   56\n",
       "California               52\n",
       "Virginia                 50\n",
       "Missouri                 50\n",
       "Montana                  50\n",
       "Kansas                   48\n",
       "New Jersey               48\n",
       "Louisiana                44\n",
       "Kentucky                 44\n",
       "Alaska                   44\n",
       "Maryland                 44\n",
       "Washington               42\n",
       "Alabama                  42\n",
       "Delaware                 40\n",
       "Oklahoma                 40\n",
       "New York                 40\n",
       "Utah                     40\n",
       "North Dakota             40\n",
       "West Virginia            40\n",
       "Oregon                   40\n",
       "Indiana                  40\n",
       "New Mexico               40\n",
       "Massachusetts            40\n",
       "Hawaii                   38\n",
       "Idaho                    38\n",
       "Arkansas                 38\n",
       "Illinois                 38\n",
       "Vermont                  38\n",
       "Mississippi              38\n",
       "South Dakota             36\n",
       "Wyoming                  36\n",
       "District of Columbia     36\n",
       "Rhode Island             36\n",
       "Tennessee                36\n",
       "Connecticut              36\n",
       "Nebraska                 36\n",
       "Maine CD-2               20\n",
       "Maine CD-1               16\n",
       "Nebraska CD-2             6\n",
       "Name: state, dtype: int64"
      ]
     },
     "execution_count": 12,
     "metadata": {},
     "output_type": "execute_result"
    }
   ],
   "source": [
    "print(\"The total number of states in our data are = {}\".format(len(df.state.unique())))\n",
    "df.state.value_counts()"
   ]
  },
  {
   "attachments": {},
   "cell_type": "markdown",
   "metadata": {},
   "source": [
    "Based on the above analysis, it appears that there are more states in our dataset than there are actual states in the United states. To address this, we will remove the CD-1 and CD-2 states and treat the poll as if it covers the entire state. "
   ]
  },
  {
   "cell_type": "code",
   "execution_count": 13,
   "metadata": {},
   "outputs": [
    {
     "name": "stdout",
     "output_type": "stream",
     "text": [
      "The total number of states in our data are = 52\n"
     ]
    },
    {
     "data": {
      "text/plain": [
       "Alabama                  42\n",
       "Alaska                   44\n",
       "Arizona                 148\n",
       "Arkansas                 38\n",
       "California               52\n",
       "Colorado                 62\n",
       "Connecticut              36\n",
       "Delaware                 40\n",
       "District of Columbia     36\n",
       "Florida                 152\n",
       "Georgia                 102\n",
       "Hawaii                   38\n",
       "Idaho                    38\n",
       "Illinois                 38\n",
       "Indiana                  40\n",
       "Iowa                     66\n",
       "Kansas                   48\n",
       "Kentucky                 44\n",
       "Louisiana                44\n",
       "Maine                    94\n",
       "Maryland                 44\n",
       "Massachusetts            40\n",
       "Michigan                138\n",
       "Minnesota                76\n",
       "Mississippi              38\n",
       "Missouri                 50\n",
       "Montana                  50\n",
       "Nebraska                 42\n",
       "Nevada                   56\n",
       "New Hampshire            58\n",
       "New Jersey               48\n",
       "New Mexico               40\n",
       "New York                 40\n",
       "North Carolina          164\n",
       "North Dakota             40\n",
       "Ohio                     80\n",
       "Oklahoma                 40\n",
       "Oregon                   40\n",
       "Pennsylvania            186\n",
       "Rhode Island             36\n",
       "South Carolina           56\n",
       "South Dakota             36\n",
       "Tennessee                36\n",
       "Texas                    92\n",
       "Utah                     40\n",
       "Vermont                  38\n",
       "Virginia                 50\n",
       "Washington               42\n",
       "West Virginia            40\n",
       "Wisconsin               228\n",
       "Wyoming                  36\n",
       "Name: state, dtype: int64"
      ]
     },
     "execution_count": 13,
     "metadata": {},
     "output_type": "execute_result"
    }
   ],
   "source": [
    "df['state'] = (df['state']\n",
    "                .str\n",
    "                .replace(r' CD-1', '')\n",
    "                .str\n",
    "                .replace(r' CD-2', ''))\n",
    "print(\"The total number of states in our data are = {}\".format(len(df.state.unique())))\n",
    "df.state.value_counts().sort_index()"
   ]
  },
  {
   "cell_type": "code",
   "execution_count": 14,
   "metadata": {},
   "outputs": [],
   "source": [
    "# We need to remove all rows with null values in the state column.\n",
    "df = df.dropna()"
   ]
  },
  {
   "cell_type": "code",
   "execution_count": 15,
   "metadata": {},
   "outputs": [
    {
     "name": "stdout",
     "output_type": "stream",
     "text": [
      "The dimensions of the DataFrame after cleaning = (3202, 8)\n",
      "<class 'pandas.core.frame.DataFrame'>\n",
      "Int64Index: 3202 entries, 0 to 5276\n",
      "Data columns (total 8 columns):\n",
      " #   Column       Non-Null Count  Dtype         \n",
      "---  ------       --------------  -----         \n",
      " 0   answer       3202 non-null   object        \n",
      " 1   start_date   3202 non-null   datetime64[ns]\n",
      " 2   end_date     3202 non-null   datetime64[ns]\n",
      " 3   state        3202 non-null   object        \n",
      " 4   pct          3202 non-null   float64       \n",
      " 5   pollster     3202 non-null   object        \n",
      " 6   question_id  3202 non-null   int64         \n",
      " 7   poll_id      3202 non-null   int64         \n",
      "dtypes: datetime64[ns](2), float64(1), int64(2), object(3)\n",
      "memory usage: 225.1+ KB\n"
     ]
    }
   ],
   "source": [
    "print(\"The dimensions of the DataFrame after cleaning = {}\".format(df.shape))\n",
    "df.info()"
   ]
  },
  {
   "cell_type": "code",
   "execution_count": 16,
   "metadata": {},
   "outputs": [
    {
     "data": {
      "text/html": [
       "<div>\n",
       "<style scoped>\n",
       "    .dataframe tbody tr th:only-of-type {\n",
       "        vertical-align: middle;\n",
       "    }\n",
       "\n",
       "    .dataframe tbody tr th {\n",
       "        vertical-align: top;\n",
       "    }\n",
       "\n",
       "    .dataframe thead th {\n",
       "        text-align: right;\n",
       "    }\n",
       "</style>\n",
       "<table border=\"1\" class=\"dataframe\">\n",
       "  <thead>\n",
       "    <tr style=\"text-align: right;\">\n",
       "      <th></th>\n",
       "      <th>answer</th>\n",
       "      <th>start_date</th>\n",
       "      <th>end_date</th>\n",
       "      <th>state</th>\n",
       "      <th>pct</th>\n",
       "      <th>pollster</th>\n",
       "      <th>question_id</th>\n",
       "      <th>poll_id</th>\n",
       "    </tr>\n",
       "  </thead>\n",
       "  <tbody>\n",
       "    <tr>\n",
       "      <th>0</th>\n",
       "      <td>Biden</td>\n",
       "      <td>2020-10-18</td>\n",
       "      <td>2020-10-19</td>\n",
       "      <td>Ohio</td>\n",
       "      <td>48.0</td>\n",
       "      <td>Rasmussen Reports/Pulse Opinion Research</td>\n",
       "      <td>133816</td>\n",
       "      <td>71450</td>\n",
       "    </tr>\n",
       "    <tr>\n",
       "      <th>1</th>\n",
       "      <td>Trump</td>\n",
       "      <td>2020-10-18</td>\n",
       "      <td>2020-10-19</td>\n",
       "      <td>Ohio</td>\n",
       "      <td>47.0</td>\n",
       "      <td>Rasmussen Reports/Pulse Opinion Research</td>\n",
       "      <td>133816</td>\n",
       "      <td>71450</td>\n",
       "    </tr>\n",
       "    <tr>\n",
       "      <th>2</th>\n",
       "      <td>Biden</td>\n",
       "      <td>2020-10-18</td>\n",
       "      <td>2020-10-19</td>\n",
       "      <td>Pennsylvania</td>\n",
       "      <td>50.0</td>\n",
       "      <td>Rasmussen Reports/Pulse Opinion Research</td>\n",
       "      <td>133838</td>\n",
       "      <td>71457</td>\n",
       "    </tr>\n",
       "    <tr>\n",
       "      <th>3</th>\n",
       "      <td>Trump</td>\n",
       "      <td>2020-10-18</td>\n",
       "      <td>2020-10-19</td>\n",
       "      <td>Pennsylvania</td>\n",
       "      <td>47.0</td>\n",
       "      <td>Rasmussen Reports/Pulse Opinion Research</td>\n",
       "      <td>133838</td>\n",
       "      <td>71457</td>\n",
       "    </tr>\n",
       "    <tr>\n",
       "      <th>4</th>\n",
       "      <td>Biden</td>\n",
       "      <td>2020-10-17</td>\n",
       "      <td>2020-10-19</td>\n",
       "      <td>Georgia</td>\n",
       "      <td>47.0</td>\n",
       "      <td>Emerson College</td>\n",
       "      <td>133777</td>\n",
       "      <td>71435</td>\n",
       "    </tr>\n",
       "  </tbody>\n",
       "</table>\n",
       "</div>"
      ],
      "text/plain": [
       "  answer start_date   end_date         state   pct  \\\n",
       "0  Biden 2020-10-18 2020-10-19          Ohio  48.0   \n",
       "1  Trump 2020-10-18 2020-10-19          Ohio  47.0   \n",
       "2  Biden 2020-10-18 2020-10-19  Pennsylvania  50.0   \n",
       "3  Trump 2020-10-18 2020-10-19  Pennsylvania  47.0   \n",
       "4  Biden 2020-10-17 2020-10-19       Georgia  47.0   \n",
       "\n",
       "                                   pollster  question_id  poll_id  \n",
       "0  Rasmussen Reports/Pulse Opinion Research       133816    71450  \n",
       "1  Rasmussen Reports/Pulse Opinion Research       133816    71450  \n",
       "2  Rasmussen Reports/Pulse Opinion Research       133838    71457  \n",
       "3  Rasmussen Reports/Pulse Opinion Research       133838    71457  \n",
       "4                           Emerson College       133777    71435  "
      ]
     },
     "execution_count": 16,
     "metadata": {},
     "output_type": "execute_result"
    }
   ],
   "source": [
    "df.head()"
   ]
  },
  {
   "attachments": {},
   "cell_type": "markdown",
   "metadata": {},
   "source": [
    "We will reformat the data into the required format. The data currently contains two rows for each poll, one for Biden and one for Trump. For out analysis, we will combine these two rows into a single row."
   ]
  },
  {
   "cell_type": "code",
   "execution_count": 17,
   "metadata": {},
   "outputs": [
    {
     "data": {
      "text/html": [
       "<div>\n",
       "<style scoped>\n",
       "    .dataframe tbody tr th:only-of-type {\n",
       "        vertical-align: middle;\n",
       "    }\n",
       "\n",
       "    .dataframe tbody tr th {\n",
       "        vertical-align: top;\n",
       "    }\n",
       "\n",
       "    .dataframe thead th {\n",
       "        text-align: right;\n",
       "    }\n",
       "</style>\n",
       "<table border=\"1\" class=\"dataframe\">\n",
       "  <thead>\n",
       "    <tr style=\"text-align: right;\">\n",
       "      <th>answer</th>\n",
       "      <th>start_date</th>\n",
       "      <th>end_date</th>\n",
       "      <th>state</th>\n",
       "      <th>poll_id</th>\n",
       "      <th>pollster</th>\n",
       "      <th>question_id</th>\n",
       "      <th>Biden</th>\n",
       "      <th>Trump</th>\n",
       "    </tr>\n",
       "  </thead>\n",
       "  <tbody>\n",
       "    <tr>\n",
       "      <th>0</th>\n",
       "      <td>2020-08-01</td>\n",
       "      <td>2020-08-05</td>\n",
       "      <td>Texas</td>\n",
       "      <td>67958</td>\n",
       "      <td>Trafalgar Group</td>\n",
       "      <td>127253</td>\n",
       "      <td>43.40</td>\n",
       "      <td>49.4</td>\n",
       "    </tr>\n",
       "    <tr>\n",
       "      <th>1</th>\n",
       "      <td>2020-08-01</td>\n",
       "      <td>2020-08-10</td>\n",
       "      <td>Wisconsin</td>\n",
       "      <td>68437</td>\n",
       "      <td>Morning Consult</td>\n",
       "      <td>128123</td>\n",
       "      <td>50.00</td>\n",
       "      <td>43.0</td>\n",
       "    </tr>\n",
       "    <tr>\n",
       "      <th>2</th>\n",
       "      <td>2020-08-01</td>\n",
       "      <td>2020-08-31</td>\n",
       "      <td>Alabama</td>\n",
       "      <td>70395</td>\n",
       "      <td>SurveyMonkey</td>\n",
       "      <td>131146</td>\n",
       "      <td>33.00</td>\n",
       "      <td>65.0</td>\n",
       "    </tr>\n",
       "    <tr>\n",
       "      <th>3</th>\n",
       "      <td>2020-08-01</td>\n",
       "      <td>2020-08-31</td>\n",
       "      <td>Alabama</td>\n",
       "      <td>70395</td>\n",
       "      <td>SurveyMonkey</td>\n",
       "      <td>131197</td>\n",
       "      <td>36.69</td>\n",
       "      <td>60.1</td>\n",
       "    </tr>\n",
       "    <tr>\n",
       "      <th>4</th>\n",
       "      <td>2020-08-01</td>\n",
       "      <td>2020-08-31</td>\n",
       "      <td>Alaska</td>\n",
       "      <td>70396</td>\n",
       "      <td>SurveyMonkey</td>\n",
       "      <td>131147</td>\n",
       "      <td>42.00</td>\n",
       "      <td>57.0</td>\n",
       "    </tr>\n",
       "  </tbody>\n",
       "</table>\n",
       "</div>"
      ],
      "text/plain": [
       "answer start_date   end_date      state  poll_id         pollster  \\\n",
       "0      2020-08-01 2020-08-05      Texas    67958  Trafalgar Group   \n",
       "1      2020-08-01 2020-08-10  Wisconsin    68437  Morning Consult   \n",
       "2      2020-08-01 2020-08-31    Alabama    70395     SurveyMonkey   \n",
       "3      2020-08-01 2020-08-31    Alabama    70395     SurveyMonkey   \n",
       "4      2020-08-01 2020-08-31     Alaska    70396     SurveyMonkey   \n",
       "\n",
       "answer  question_id  Biden  Trump  \n",
       "0            127253  43.40   49.4  \n",
       "1            128123  50.00   43.0  \n",
       "2            131146  33.00   65.0  \n",
       "3            131197  36.69   60.1  \n",
       "4            131147  42.00   57.0  "
      ]
     },
     "execution_count": 17,
     "metadata": {},
     "output_type": "execute_result"
    }
   ],
   "source": [
    "df = (df\n",
    "     .pivot_table(index=['start_date', 'end_date', 'state', 'poll_id', 'pollster', 'question_id'], columns=['answer'], values='pct')\n",
    "     .reset_index())\n",
    "df.head()"
   ]
  },
  {
   "attachments": {},
   "cell_type": "markdown",
   "metadata": {},
   "source": [
    "### Let's Understand the US Electoral process\n",
    "The USA Electoral Map\n",
    "<br>\n",
    "There are 538 seats and 270 to win\n",
    "<br>\n",
    "![alt text](image.jpg)"
   ]
  },
  {
   "cell_type": "code",
   "execution_count": 18,
   "metadata": {},
   "outputs": [],
   "source": [
    "states = {\n",
    "    \"Alabama\": 9,\n",
    "    \"Alaska\": 3,\n",
    "    \"Arizona\": 11,\n",
    "    \"Arkansas\": 6,\n",
    "    \"California\": 55,\n",
    "    \"Colorado\": 9,\n",
    "    \"Connecticut\": 7,\n",
    "    \"Delaware\": 3,\n",
    "    \"District of Columbia\": 3,\n",
    "    \"Florida\": 29,\n",
    "    \"Georgia\": 16,\n",
    "    \"Hawaii\": 4,\n",
    "    \"Idaho\": 4,\n",
    "    \"Illinois\": 20,\n",
    "    \"Indiana\": 11,\n",
    "    \"Iowa\": 6,\n",
    "    \"Kansas\": 6,\n",
    "    \"Kentucky\": 8,\n",
    "    \"Louisiana\": 8,\n",
    "    \"Maine\": 4,\n",
    "    \"Maryland\": 10,\n",
    "    \"Massachusetts\": 11,\n",
    "    \"Michigan\": 16,\n",
    "    \"Minnesota\": 10,\n",
    "    \"Mississippi\": 6,\n",
    "    \"Missouri\": 10,\n",
    "    \"Montana\": 3,\n",
    "    \"Nebraska\": 5,\n",
    "    \"Nevada\": 6,\n",
    "    \"New Hampshire\": 4,\n",
    "    \"New Jersey\": 14,\n",
    "    \"New Mexico\": 5,\n",
    "    \"New York\": 29,\n",
    "    \"North Carolina\": 15,\n",
    "    \"North Dakota\": 3,\n",
    "    \"Ohio\": 18,\n",
    "    \"Oklahoma\": 7,\n",
    "    \"Oregon\": 7,\n",
    "    \"Pennsylvania\": 20,\n",
    "    \"Rhode Island\": 4,\n",
    "    \"South Carolina\": 9,\n",
    "    \"South Dakota\": 3,\n",
    "    \"Tennessee\": 11,\n",
    "    \"Texas\": 38,\n",
    "    \"Utah\": 6,\n",
    "    \"Vermont\": 3,\n",
    "    \"Virginia\": 13,\n",
    "    \"Washington\": 12,\n",
    "    \"West Virginia\": 5,\n",
    "    \"Wisconsin\": 10,\n",
    "    \"Wyoming\": 3,\n",
    "}"
   ]
  },
  {
   "cell_type": "code",
   "execution_count": 19,
   "metadata": {},
   "outputs": [
    {
     "data": {
      "text/html": [
       "<div>\n",
       "<style scoped>\n",
       "    .dataframe tbody tr th:only-of-type {\n",
       "        vertical-align: middle;\n",
       "    }\n",
       "\n",
       "    .dataframe tbody tr th {\n",
       "        vertical-align: top;\n",
       "    }\n",
       "\n",
       "    .dataframe thead th {\n",
       "        text-align: right;\n",
       "    }\n",
       "</style>\n",
       "<table border=\"1\" class=\"dataframe\">\n",
       "  <thead>\n",
       "    <tr style=\"text-align: right;\">\n",
       "      <th>answer</th>\n",
       "      <th>start_date</th>\n",
       "      <th>end_date</th>\n",
       "      <th>state</th>\n",
       "      <th>poll_id</th>\n",
       "      <th>pollster</th>\n",
       "      <th>question_id</th>\n",
       "      <th>Biden</th>\n",
       "      <th>Trump</th>\n",
       "      <th>seats</th>\n",
       "    </tr>\n",
       "  </thead>\n",
       "  <tbody>\n",
       "    <tr>\n",
       "      <th>0</th>\n",
       "      <td>2020-08-01</td>\n",
       "      <td>2020-08-05</td>\n",
       "      <td>Texas</td>\n",
       "      <td>67958</td>\n",
       "      <td>Trafalgar Group</td>\n",
       "      <td>127253</td>\n",
       "      <td>43.40</td>\n",
       "      <td>49.4</td>\n",
       "      <td>38</td>\n",
       "    </tr>\n",
       "    <tr>\n",
       "      <th>1</th>\n",
       "      <td>2020-08-01</td>\n",
       "      <td>2020-08-10</td>\n",
       "      <td>Wisconsin</td>\n",
       "      <td>68437</td>\n",
       "      <td>Morning Consult</td>\n",
       "      <td>128123</td>\n",
       "      <td>50.00</td>\n",
       "      <td>43.0</td>\n",
       "      <td>10</td>\n",
       "    </tr>\n",
       "    <tr>\n",
       "      <th>2</th>\n",
       "      <td>2020-08-01</td>\n",
       "      <td>2020-08-31</td>\n",
       "      <td>Alabama</td>\n",
       "      <td>70395</td>\n",
       "      <td>SurveyMonkey</td>\n",
       "      <td>131146</td>\n",
       "      <td>33.00</td>\n",
       "      <td>65.0</td>\n",
       "      <td>9</td>\n",
       "    </tr>\n",
       "    <tr>\n",
       "      <th>3</th>\n",
       "      <td>2020-08-01</td>\n",
       "      <td>2020-08-31</td>\n",
       "      <td>Alabama</td>\n",
       "      <td>70395</td>\n",
       "      <td>SurveyMonkey</td>\n",
       "      <td>131197</td>\n",
       "      <td>36.69</td>\n",
       "      <td>60.1</td>\n",
       "      <td>9</td>\n",
       "    </tr>\n",
       "    <tr>\n",
       "      <th>4</th>\n",
       "      <td>2020-08-01</td>\n",
       "      <td>2020-08-31</td>\n",
       "      <td>Alaska</td>\n",
       "      <td>70396</td>\n",
       "      <td>SurveyMonkey</td>\n",
       "      <td>131147</td>\n",
       "      <td>42.00</td>\n",
       "      <td>57.0</td>\n",
       "      <td>3</td>\n",
       "    </tr>\n",
       "  </tbody>\n",
       "</table>\n",
       "</div>"
      ],
      "text/plain": [
       "answer start_date   end_date      state  poll_id         pollster  \\\n",
       "0      2020-08-01 2020-08-05      Texas    67958  Trafalgar Group   \n",
       "1      2020-08-01 2020-08-10  Wisconsin    68437  Morning Consult   \n",
       "2      2020-08-01 2020-08-31    Alabama    70395     SurveyMonkey   \n",
       "3      2020-08-01 2020-08-31    Alabama    70395     SurveyMonkey   \n",
       "4      2020-08-01 2020-08-31     Alaska    70396     SurveyMonkey   \n",
       "\n",
       "answer  question_id  Biden  Trump  seats  \n",
       "0            127253  43.40   49.4     38  \n",
       "1            128123  50.00   43.0     10  \n",
       "2            131146  33.00   65.0      9  \n",
       "3            131197  36.69   60.1      9  \n",
       "4            131147  42.00   57.0      3  "
      ]
     },
     "execution_count": 19,
     "metadata": {},
     "output_type": "execute_result"
    }
   ],
   "source": [
    "df = df.assign(seats = lambda row: row['state'].map(states))\n",
    "df.head()"
   ]
  },
  {
   "attachments": {},
   "cell_type": "markdown",
   "metadata": {},
   "source": [
    "### Let's visualise data"
   ]
  },
  {
   "cell_type": "code",
   "execution_count": 20,
   "metadata": {},
   "outputs": [
    {
     "ename": "ModuleNotFoundError",
     "evalue": "No module named 'plotly'",
     "output_type": "error",
     "traceback": [
      "\u001b[1;31m---------------------------------------------------------------------------\u001b[0m",
      "\u001b[1;31mModuleNotFoundError\u001b[0m                       Traceback (most recent call last)",
      "Cell \u001b[1;32mIn[20], line 1\u001b[0m\n\u001b[1;32m----> 1\u001b[0m \u001b[39mimport\u001b[39;00m \u001b[39mplotly\u001b[39;00m\u001b[39m.\u001b[39;00m\u001b[39mexpress\u001b[39;00m \u001b[39mas\u001b[39;00m \u001b[39mpx\u001b[39;00m\n\u001b[0;32m      2\u001b[0m df_diff \u001b[39m=\u001b[39m  (df\n\u001b[0;32m      3\u001b[0m             \u001b[39m.\u001b[39mgroupby(\u001b[39m'\u001b[39m\u001b[39mstart_date\u001b[39m\u001b[39m'\u001b[39m)\n\u001b[0;32m      4\u001b[0m             \u001b[39m.\u001b[39magg({\u001b[39m'\u001b[39m\u001b[39mBiden\u001b[39m\u001b[39m'\u001b[39m:\u001b[39m'\u001b[39m\u001b[39mmean\u001b[39m\u001b[39m'\u001b[39m,\n\u001b[1;32m   (...)\u001b[0m\n\u001b[0;32m      7\u001b[0m             \u001b[39m.\u001b[39massign(diff \u001b[39m=\u001b[39m  \u001b[39mlambda\u001b[39;00m x: x[\u001b[39m'\u001b[39m\u001b[39mBiden\u001b[39m\u001b[39m'\u001b[39m] \u001b[39m-\u001b[39m x[\u001b[39m'\u001b[39m\u001b[39mTrump\u001b[39m\u001b[39m'\u001b[39m])\n\u001b[0;32m      8\u001b[0m             )\n\u001b[0;32m      9\u001b[0m df_diff\u001b[39m.\u001b[39mhead()\n",
      "\u001b[1;31mModuleNotFoundError\u001b[0m: No module named 'plotly'"
     ]
    }
   ],
   "source": [
    "import plotly.express as px\n",
    "df_diff =  (df\n",
    "            .groupby('start_date')\n",
    "            .agg({'Biden':'mean',\n",
    "                  'Trump':'mean'})\n",
    "            .reset_index()\n",
    "            .assign(diff =  lambda x: x['Biden'] - x['Trump'])\n",
    "            )\n",
    "df_diff.head()\n"
   ]
  },
  {
   "cell_type": "code",
   "execution_count": null,
   "metadata": {},
   "outputs": [
    {
     "data": {
      "application/vnd.plotly.v1+json": {
       "config": {
        "plotlyServerURL": "https://plot.ly"
       },
       "data": [
        {
         "hovertemplate": "start_date=%{x}<br>diff=%{y}<extra></extra>",
         "legendgroup": "",
         "line": {
          "color": "#636efa",
          "dash": "solid"
         },
         "marker": {
          "symbol": "circle"
         },
         "mode": "lines",
         "name": "",
         "orientation": "v",
         "showlegend": false,
         "type": "scatter",
         "x": [
          "2020-08-01T00:00:00",
          "2020-08-02T00:00:00",
          "2020-08-03T00:00:00",
          "2020-08-04T00:00:00",
          "2020-08-05T00:00:00",
          "2020-08-06T00:00:00",
          "2020-08-07T00:00:00",
          "2020-08-08T00:00:00",
          "2020-08-09T00:00:00",
          "2020-08-10T00:00:00",
          "2020-08-11T00:00:00",
          "2020-08-12T00:00:00",
          "2020-08-13T00:00:00",
          "2020-08-14T00:00:00",
          "2020-08-15T00:00:00",
          "2020-08-16T00:00:00",
          "2020-08-17T00:00:00",
          "2020-08-18T00:00:00",
          "2020-08-19T00:00:00",
          "2020-08-20T00:00:00",
          "2020-08-21T00:00:00",
          "2020-08-22T00:00:00",
          "2020-08-23T00:00:00",
          "2020-08-24T00:00:00",
          "2020-08-25T00:00:00",
          "2020-08-26T00:00:00",
          "2020-08-27T00:00:00",
          "2020-08-28T00:00:00",
          "2020-08-29T00:00:00",
          "2020-08-30T00:00:00",
          "2020-08-31T00:00:00",
          "2020-09-01T00:00:00",
          "2020-09-02T00:00:00",
          "2020-09-03T00:00:00",
          "2020-09-04T00:00:00",
          "2020-09-05T00:00:00",
          "2020-09-06T00:00:00",
          "2020-09-07T00:00:00",
          "2020-09-08T00:00:00",
          "2020-09-09T00:00:00",
          "2020-09-10T00:00:00",
          "2020-09-11T00:00:00",
          "2020-09-12T00:00:00",
          "2020-09-14T00:00:00",
          "2020-09-15T00:00:00",
          "2020-09-16T00:00:00",
          "2020-09-17T00:00:00",
          "2020-09-18T00:00:00",
          "2020-09-19T00:00:00",
          "2020-09-20T00:00:00",
          "2020-09-21T00:00:00",
          "2020-09-22T00:00:00",
          "2020-09-23T00:00:00",
          "2020-09-24T00:00:00",
          "2020-09-25T00:00:00",
          "2020-09-26T00:00:00",
          "2020-09-27T00:00:00",
          "2020-09-28T00:00:00",
          "2020-09-29T00:00:00",
          "2020-09-30T00:00:00",
          "2020-10-01T00:00:00",
          "2020-10-02T00:00:00",
          "2020-10-03T00:00:00",
          "2020-10-04T00:00:00",
          "2020-10-05T00:00:00",
          "2020-10-06T00:00:00",
          "2020-10-07T00:00:00",
          "2020-10-08T00:00:00",
          "2020-10-09T00:00:00",
          "2020-10-10T00:00:00",
          "2020-10-11T00:00:00",
          "2020-10-12T00:00:00",
          "2020-10-13T00:00:00",
          "2020-10-14T00:00:00",
          "2020-10-15T00:00:00",
          "2020-10-16T00:00:00",
          "2020-10-17T00:00:00",
          "2020-10-18T00:00:00"
         ],
         "xaxis": "x",
         "y": [
          2.465999999999994,
          1.7999999999999972,
          6,
          3.5,
          3.8683333333333394,
          6.316666666666663,
          3.235294117647058,
          3.407999999999994,
          19,
          9,
          5.4680000000000035,
          11.533333333333331,
          2.9499999999999957,
          1.1799999999999997,
          5.13333333333334,
          7.571428571428569,
          5.302500000000002,
          10,
          9,
          5.936666666666667,
          6.467826086956521,
          12.333333333333329,
          10,
          5.5,
          11.699999999999996,
          4.058749999999996,
          6,
          4.05555555555555,
          2.796666666666667,
          5.55555555555555,
          4.799999999999997,
          4.114090909090898,
          -1.764000000000003,
          7.211666666666666,
          11.996923076923075,
          9,
          7.825000000000003,
          -1.8200000000000003,
          8.475000000000001,
          9.25555555555556,
          5.526315789473685,
          3.007619047619052,
          2.2222222222222214,
          0.6061224489795976,
          5.3788990825688145,
          3.583669724770644,
          7.834112903225815,
          5.358407079646014,
          7.135135135135137,
          5.547706422018358,
          5.8578313253012055,
          1.1499999999999986,
          3.6840000000000117,
          0.7909090909090821,
          6.350000000000001,
          2.3249999999999957,
          8.54,
          0.6666666666666714,
          4.5,
          6.032142857142851,
          5.441666666666663,
          5.632000000000005,
          1.8333333333333357,
          3.266666666666673,
          -1.4500000000000028,
          4.618181818181817,
          4.106250000000003,
          4.443478260869568,
          2.9272727272727295,
          3.8999999999999986,
          -1.1666666666666714,
          2.7666666666666657,
          3.4555555555555557,
          6.099999999999994,
          2.0999999999999943,
          5.200000000000003,
          -1.3999999999999986,
          4.666666666666664
         ],
         "yaxis": "y"
        }
       ],
       "layout": {
        "legend": {
         "tracegroupgap": 0
        },
        "plot_bgcolor": "white",
        "template": {
         "data": {
          "bar": [
           {
            "error_x": {
             "color": "#2a3f5f"
            },
            "error_y": {
             "color": "#2a3f5f"
            },
            "marker": {
             "line": {
              "color": "#E5ECF6",
              "width": 0.5
             },
             "pattern": {
              "fillmode": "overlay",
              "size": 10,
              "solidity": 0.2
             }
            },
            "type": "bar"
           }
          ],
          "barpolar": [
           {
            "marker": {
             "line": {
              "color": "#E5ECF6",
              "width": 0.5
             },
             "pattern": {
              "fillmode": "overlay",
              "size": 10,
              "solidity": 0.2
             }
            },
            "type": "barpolar"
           }
          ],
          "carpet": [
           {
            "aaxis": {
             "endlinecolor": "#2a3f5f",
             "gridcolor": "white",
             "linecolor": "white",
             "minorgridcolor": "white",
             "startlinecolor": "#2a3f5f"
            },
            "baxis": {
             "endlinecolor": "#2a3f5f",
             "gridcolor": "white",
             "linecolor": "white",
             "minorgridcolor": "white",
             "startlinecolor": "#2a3f5f"
            },
            "type": "carpet"
           }
          ],
          "choropleth": [
           {
            "colorbar": {
             "outlinewidth": 0,
             "ticks": ""
            },
            "type": "choropleth"
           }
          ],
          "contour": [
           {
            "colorbar": {
             "outlinewidth": 0,
             "ticks": ""
            },
            "colorscale": [
             [
              0,
              "#0d0887"
             ],
             [
              0.1111111111111111,
              "#46039f"
             ],
             [
              0.2222222222222222,
              "#7201a8"
             ],
             [
              0.3333333333333333,
              "#9c179e"
             ],
             [
              0.4444444444444444,
              "#bd3786"
             ],
             [
              0.5555555555555556,
              "#d8576b"
             ],
             [
              0.6666666666666666,
              "#ed7953"
             ],
             [
              0.7777777777777778,
              "#fb9f3a"
             ],
             [
              0.8888888888888888,
              "#fdca26"
             ],
             [
              1,
              "#f0f921"
             ]
            ],
            "type": "contour"
           }
          ],
          "contourcarpet": [
           {
            "colorbar": {
             "outlinewidth": 0,
             "ticks": ""
            },
            "type": "contourcarpet"
           }
          ],
          "heatmap": [
           {
            "colorbar": {
             "outlinewidth": 0,
             "ticks": ""
            },
            "colorscale": [
             [
              0,
              "#0d0887"
             ],
             [
              0.1111111111111111,
              "#46039f"
             ],
             [
              0.2222222222222222,
              "#7201a8"
             ],
             [
              0.3333333333333333,
              "#9c179e"
             ],
             [
              0.4444444444444444,
              "#bd3786"
             ],
             [
              0.5555555555555556,
              "#d8576b"
             ],
             [
              0.6666666666666666,
              "#ed7953"
             ],
             [
              0.7777777777777778,
              "#fb9f3a"
             ],
             [
              0.8888888888888888,
              "#fdca26"
             ],
             [
              1,
              "#f0f921"
             ]
            ],
            "type": "heatmap"
           }
          ],
          "heatmapgl": [
           {
            "colorbar": {
             "outlinewidth": 0,
             "ticks": ""
            },
            "colorscale": [
             [
              0,
              "#0d0887"
             ],
             [
              0.1111111111111111,
              "#46039f"
             ],
             [
              0.2222222222222222,
              "#7201a8"
             ],
             [
              0.3333333333333333,
              "#9c179e"
             ],
             [
              0.4444444444444444,
              "#bd3786"
             ],
             [
              0.5555555555555556,
              "#d8576b"
             ],
             [
              0.6666666666666666,
              "#ed7953"
             ],
             [
              0.7777777777777778,
              "#fb9f3a"
             ],
             [
              0.8888888888888888,
              "#fdca26"
             ],
             [
              1,
              "#f0f921"
             ]
            ],
            "type": "heatmapgl"
           }
          ],
          "histogram": [
           {
            "marker": {
             "pattern": {
              "fillmode": "overlay",
              "size": 10,
              "solidity": 0.2
             }
            },
            "type": "histogram"
           }
          ],
          "histogram2d": [
           {
            "colorbar": {
             "outlinewidth": 0,
             "ticks": ""
            },
            "colorscale": [
             [
              0,
              "#0d0887"
             ],
             [
              0.1111111111111111,
              "#46039f"
             ],
             [
              0.2222222222222222,
              "#7201a8"
             ],
             [
              0.3333333333333333,
              "#9c179e"
             ],
             [
              0.4444444444444444,
              "#bd3786"
             ],
             [
              0.5555555555555556,
              "#d8576b"
             ],
             [
              0.6666666666666666,
              "#ed7953"
             ],
             [
              0.7777777777777778,
              "#fb9f3a"
             ],
             [
              0.8888888888888888,
              "#fdca26"
             ],
             [
              1,
              "#f0f921"
             ]
            ],
            "type": "histogram2d"
           }
          ],
          "histogram2dcontour": [
           {
            "colorbar": {
             "outlinewidth": 0,
             "ticks": ""
            },
            "colorscale": [
             [
              0,
              "#0d0887"
             ],
             [
              0.1111111111111111,
              "#46039f"
             ],
             [
              0.2222222222222222,
              "#7201a8"
             ],
             [
              0.3333333333333333,
              "#9c179e"
             ],
             [
              0.4444444444444444,
              "#bd3786"
             ],
             [
              0.5555555555555556,
              "#d8576b"
             ],
             [
              0.6666666666666666,
              "#ed7953"
             ],
             [
              0.7777777777777778,
              "#fb9f3a"
             ],
             [
              0.8888888888888888,
              "#fdca26"
             ],
             [
              1,
              "#f0f921"
             ]
            ],
            "type": "histogram2dcontour"
           }
          ],
          "mesh3d": [
           {
            "colorbar": {
             "outlinewidth": 0,
             "ticks": ""
            },
            "type": "mesh3d"
           }
          ],
          "parcoords": [
           {
            "line": {
             "colorbar": {
              "outlinewidth": 0,
              "ticks": ""
             }
            },
            "type": "parcoords"
           }
          ],
          "pie": [
           {
            "automargin": true,
            "type": "pie"
           }
          ],
          "scatter": [
           {
            "fillpattern": {
             "fillmode": "overlay",
             "size": 10,
             "solidity": 0.2
            },
            "type": "scatter"
           }
          ],
          "scatter3d": [
           {
            "line": {
             "colorbar": {
              "outlinewidth": 0,
              "ticks": ""
             }
            },
            "marker": {
             "colorbar": {
              "outlinewidth": 0,
              "ticks": ""
             }
            },
            "type": "scatter3d"
           }
          ],
          "scattercarpet": [
           {
            "marker": {
             "colorbar": {
              "outlinewidth": 0,
              "ticks": ""
             }
            },
            "type": "scattercarpet"
           }
          ],
          "scattergeo": [
           {
            "marker": {
             "colorbar": {
              "outlinewidth": 0,
              "ticks": ""
             }
            },
            "type": "scattergeo"
           }
          ],
          "scattergl": [
           {
            "marker": {
             "colorbar": {
              "outlinewidth": 0,
              "ticks": ""
             }
            },
            "type": "scattergl"
           }
          ],
          "scattermapbox": [
           {
            "marker": {
             "colorbar": {
              "outlinewidth": 0,
              "ticks": ""
             }
            },
            "type": "scattermapbox"
           }
          ],
          "scatterpolar": [
           {
            "marker": {
             "colorbar": {
              "outlinewidth": 0,
              "ticks": ""
             }
            },
            "type": "scatterpolar"
           }
          ],
          "scatterpolargl": [
           {
            "marker": {
             "colorbar": {
              "outlinewidth": 0,
              "ticks": ""
             }
            },
            "type": "scatterpolargl"
           }
          ],
          "scatterternary": [
           {
            "marker": {
             "colorbar": {
              "outlinewidth": 0,
              "ticks": ""
             }
            },
            "type": "scatterternary"
           }
          ],
          "surface": [
           {
            "colorbar": {
             "outlinewidth": 0,
             "ticks": ""
            },
            "colorscale": [
             [
              0,
              "#0d0887"
             ],
             [
              0.1111111111111111,
              "#46039f"
             ],
             [
              0.2222222222222222,
              "#7201a8"
             ],
             [
              0.3333333333333333,
              "#9c179e"
             ],
             [
              0.4444444444444444,
              "#bd3786"
             ],
             [
              0.5555555555555556,
              "#d8576b"
             ],
             [
              0.6666666666666666,
              "#ed7953"
             ],
             [
              0.7777777777777778,
              "#fb9f3a"
             ],
             [
              0.8888888888888888,
              "#fdca26"
             ],
             [
              1,
              "#f0f921"
             ]
            ],
            "type": "surface"
           }
          ],
          "table": [
           {
            "cells": {
             "fill": {
              "color": "#EBF0F8"
             },
             "line": {
              "color": "white"
             }
            },
            "header": {
             "fill": {
              "color": "#C8D4E3"
             },
             "line": {
              "color": "white"
             }
            },
            "type": "table"
           }
          ]
         },
         "layout": {
          "annotationdefaults": {
           "arrowcolor": "#2a3f5f",
           "arrowhead": 0,
           "arrowwidth": 1
          },
          "autotypenumbers": "strict",
          "coloraxis": {
           "colorbar": {
            "outlinewidth": 0,
            "ticks": ""
           }
          },
          "colorscale": {
           "diverging": [
            [
             0,
             "#8e0152"
            ],
            [
             0.1,
             "#c51b7d"
            ],
            [
             0.2,
             "#de77ae"
            ],
            [
             0.3,
             "#f1b6da"
            ],
            [
             0.4,
             "#fde0ef"
            ],
            [
             0.5,
             "#f7f7f7"
            ],
            [
             0.6,
             "#e6f5d0"
            ],
            [
             0.7,
             "#b8e186"
            ],
            [
             0.8,
             "#7fbc41"
            ],
            [
             0.9,
             "#4d9221"
            ],
            [
             1,
             "#276419"
            ]
           ],
           "sequential": [
            [
             0,
             "#0d0887"
            ],
            [
             0.1111111111111111,
             "#46039f"
            ],
            [
             0.2222222222222222,
             "#7201a8"
            ],
            [
             0.3333333333333333,
             "#9c179e"
            ],
            [
             0.4444444444444444,
             "#bd3786"
            ],
            [
             0.5555555555555556,
             "#d8576b"
            ],
            [
             0.6666666666666666,
             "#ed7953"
            ],
            [
             0.7777777777777778,
             "#fb9f3a"
            ],
            [
             0.8888888888888888,
             "#fdca26"
            ],
            [
             1,
             "#f0f921"
            ]
           ],
           "sequentialminus": [
            [
             0,
             "#0d0887"
            ],
            [
             0.1111111111111111,
             "#46039f"
            ],
            [
             0.2222222222222222,
             "#7201a8"
            ],
            [
             0.3333333333333333,
             "#9c179e"
            ],
            [
             0.4444444444444444,
             "#bd3786"
            ],
            [
             0.5555555555555556,
             "#d8576b"
            ],
            [
             0.6666666666666666,
             "#ed7953"
            ],
            [
             0.7777777777777778,
             "#fb9f3a"
            ],
            [
             0.8888888888888888,
             "#fdca26"
            ],
            [
             1,
             "#f0f921"
            ]
           ]
          },
          "colorway": [
           "#636efa",
           "#EF553B",
           "#00cc96",
           "#ab63fa",
           "#FFA15A",
           "#19d3f3",
           "#FF6692",
           "#B6E880",
           "#FF97FF",
           "#FECB52"
          ],
          "font": {
           "color": "#2a3f5f"
          },
          "geo": {
           "bgcolor": "white",
           "lakecolor": "white",
           "landcolor": "#E5ECF6",
           "showlakes": true,
           "showland": true,
           "subunitcolor": "white"
          },
          "hoverlabel": {
           "align": "left"
          },
          "hovermode": "closest",
          "mapbox": {
           "style": "light"
          },
          "paper_bgcolor": "white",
          "plot_bgcolor": "#E5ECF6",
          "polar": {
           "angularaxis": {
            "gridcolor": "white",
            "linecolor": "white",
            "ticks": ""
           },
           "bgcolor": "#E5ECF6",
           "radialaxis": {
            "gridcolor": "white",
            "linecolor": "white",
            "ticks": ""
           }
          },
          "scene": {
           "xaxis": {
            "backgroundcolor": "#E5ECF6",
            "gridcolor": "white",
            "gridwidth": 2,
            "linecolor": "white",
            "showbackground": true,
            "ticks": "",
            "zerolinecolor": "white"
           },
           "yaxis": {
            "backgroundcolor": "#E5ECF6",
            "gridcolor": "white",
            "gridwidth": 2,
            "linecolor": "white",
            "showbackground": true,
            "ticks": "",
            "zerolinecolor": "white"
           },
           "zaxis": {
            "backgroundcolor": "#E5ECF6",
            "gridcolor": "white",
            "gridwidth": 2,
            "linecolor": "white",
            "showbackground": true,
            "ticks": "",
            "zerolinecolor": "white"
           }
          },
          "shapedefaults": {
           "line": {
            "color": "#2a3f5f"
           }
          },
          "ternary": {
           "aaxis": {
            "gridcolor": "white",
            "linecolor": "white",
            "ticks": ""
           },
           "baxis": {
            "gridcolor": "white",
            "linecolor": "white",
            "ticks": ""
           },
           "bgcolor": "#E5ECF6",
           "caxis": {
            "gridcolor": "white",
            "linecolor": "white",
            "ticks": ""
           }
          },
          "title": {
           "x": 0.05
          },
          "xaxis": {
           "automargin": true,
           "gridcolor": "white",
           "linecolor": "white",
           "ticks": "",
           "title": {
            "standoff": 15
           },
           "zerolinecolor": "white",
           "zerolinewidth": 2
          },
          "yaxis": {
           "automargin": true,
           "gridcolor": "white",
           "linecolor": "white",
           "ticks": "",
           "title": {
            "standoff": 15
           },
           "zerolinecolor": "white",
           "zerolinewidth": 2
          }
         }
        },
        "title": {
         "text": "Biden vs Trump Difference"
        },
        "xaxis": {
         "anchor": "y",
         "domain": [
          0,
          1
         ],
         "title": {
          "text": "Start date of the poll"
         }
        },
        "yaxis": {
         "anchor": "x",
         "domain": [
          0,
          1
         ],
         "title": {
          "text": ""
         }
        }
       }
      }
     },
     "metadata": {},
     "output_type": "display_data"
    }
   ],
   "source": [
    "import plotly.express as px\n",
    "fig = px.line(df_diff,\n",
    "              x='start_date',\n",
    "              y='diff',\n",
    "              title='Biden vs Trump Difference'\n",
    "             )\n",
    "fig.update_layout(\n",
    "    xaxis_title=\"Start date of the poll\",\n",
    "    yaxis_title='',\n",
    "    plot_bgcolor='white'\n",
    ")\n",
    "fig.show()"
   ]
  },
  {
   "attachments": {},
   "cell_type": "markdown",
   "metadata": {},
   "source": [
    "We add center and standard deviation to our averaged polling data"
   ]
  },
  {
   "cell_type": "code",
   "execution_count": null,
   "metadata": {},
   "outputs": [
    {
     "data": {
      "text/html": [
       "<div>\n",
       "<style scoped>\n",
       "    .dataframe tbody tr th:only-of-type {\n",
       "        vertical-align: middle;\n",
       "    }\n",
       "\n",
       "    .dataframe tbody tr th {\n",
       "        vertical-align: top;\n",
       "    }\n",
       "\n",
       "    .dataframe thead th {\n",
       "        text-align: right;\n",
       "    }\n",
       "</style>\n",
       "<table border=\"1\" class=\"dataframe\">\n",
       "  <thead>\n",
       "    <tr style=\"text-align: right;\">\n",
       "      <th>answer</th>\n",
       "      <th>start_date</th>\n",
       "      <th>end_date</th>\n",
       "      <th>state</th>\n",
       "      <th>poll_id</th>\n",
       "      <th>pollster</th>\n",
       "      <th>question_id</th>\n",
       "      <th>Biden</th>\n",
       "      <th>Trump</th>\n",
       "      <th>seats</th>\n",
       "      <th>Center</th>\n",
       "      <th>Stddev</th>\n",
       "    </tr>\n",
       "  </thead>\n",
       "  <tbody>\n",
       "    <tr>\n",
       "      <th>0</th>\n",
       "      <td>2020-08-01</td>\n",
       "      <td>2020-08-05</td>\n",
       "      <td>Texas</td>\n",
       "      <td>67958</td>\n",
       "      <td>Trafalgar Group</td>\n",
       "      <td>127253</td>\n",
       "      <td>43.40</td>\n",
       "      <td>49.4</td>\n",
       "      <td>38</td>\n",
       "      <td>47.000</td>\n",
       "      <td>4.2000</td>\n",
       "    </tr>\n",
       "    <tr>\n",
       "      <th>1</th>\n",
       "      <td>2020-08-01</td>\n",
       "      <td>2020-08-10</td>\n",
       "      <td>Wisconsin</td>\n",
       "      <td>68437</td>\n",
       "      <td>Morning Consult</td>\n",
       "      <td>128123</td>\n",
       "      <td>50.00</td>\n",
       "      <td>43.0</td>\n",
       "      <td>10</td>\n",
       "      <td>53.500</td>\n",
       "      <td>8.2500</td>\n",
       "    </tr>\n",
       "    <tr>\n",
       "      <th>2</th>\n",
       "      <td>2020-08-01</td>\n",
       "      <td>2020-08-31</td>\n",
       "      <td>Alabama</td>\n",
       "      <td>70395</td>\n",
       "      <td>SurveyMonkey</td>\n",
       "      <td>131146</td>\n",
       "      <td>33.00</td>\n",
       "      <td>65.0</td>\n",
       "      <td>9</td>\n",
       "      <td>34.000</td>\n",
       "      <td>18.5000</td>\n",
       "    </tr>\n",
       "    <tr>\n",
       "      <th>3</th>\n",
       "      <td>2020-08-01</td>\n",
       "      <td>2020-08-31</td>\n",
       "      <td>Alabama</td>\n",
       "      <td>70395</td>\n",
       "      <td>SurveyMonkey</td>\n",
       "      <td>131197</td>\n",
       "      <td>36.69</td>\n",
       "      <td>60.1</td>\n",
       "      <td>9</td>\n",
       "      <td>38.295</td>\n",
       "      <td>13.9025</td>\n",
       "    </tr>\n",
       "    <tr>\n",
       "      <th>4</th>\n",
       "      <td>2020-08-01</td>\n",
       "      <td>2020-08-31</td>\n",
       "      <td>Alaska</td>\n",
       "      <td>70396</td>\n",
       "      <td>SurveyMonkey</td>\n",
       "      <td>131147</td>\n",
       "      <td>42.00</td>\n",
       "      <td>57.0</td>\n",
       "      <td>3</td>\n",
       "      <td>42.500</td>\n",
       "      <td>10.2500</td>\n",
       "    </tr>\n",
       "  </tbody>\n",
       "</table>\n",
       "</div>"
      ],
      "text/plain": [
       "answer start_date   end_date      state  poll_id         pollster  \\\n",
       "0      2020-08-01 2020-08-05      Texas    67958  Trafalgar Group   \n",
       "1      2020-08-01 2020-08-10  Wisconsin    68437  Morning Consult   \n",
       "2      2020-08-01 2020-08-31    Alabama    70395     SurveyMonkey   \n",
       "3      2020-08-01 2020-08-31    Alabama    70395     SurveyMonkey   \n",
       "4      2020-08-01 2020-08-31     Alaska    70396     SurveyMonkey   \n",
       "\n",
       "answer  question_id  Biden  Trump  seats  Center   Stddev  \n",
       "0            127253  43.40   49.4     38  47.000   4.2000  \n",
       "1            128123  50.00   43.0     10  53.500   8.2500  \n",
       "2            131146  33.00   65.0      9  34.000  18.5000  \n",
       "3            131197  36.69   60.1      9  38.295  13.9025  \n",
       "4            131147  42.00   57.0      3  42.500  10.2500  "
      ]
     },
     "execution_count": 96,
     "metadata": {},
     "output_type": "execute_result"
    }
   ],
   "source": [
    "def get_center(row):\n",
    "    return row[\"Biden\"] + (100 - row[\"Trump\"] - row[\"Biden\"]) / 2\n",
    "\n",
    "def get_deviations(row):\n",
    "    return (abs(row['Trump'] - row[\"Center\"]) / 2) + 3\n",
    "\n",
    "df = (df\n",
    "      .assign(Center = lambda x: get_center(x),\n",
    "              Stddev = lambda x: get_deviations(x)))\n",
    "df.head()"
   ]
  },
  {
   "attachments": {},
   "cell_type": "markdown",
   "metadata": {},
   "source": [
    "#### Now we're going average all polls\n",
    "This isn't the best method as it disregards any weighting to better polls and assumes all area equal. In a more advanced study we can use metrics like fte_grade, sample_size and methodology to weight polls."
   ]
  },
  {
   "cell_type": "code",
   "execution_count": null,
   "metadata": {},
   "outputs": [
    {
     "data": {
      "text/html": [
       "<div>\n",
       "<style scoped>\n",
       "    .dataframe tbody tr th:only-of-type {\n",
       "        vertical-align: middle;\n",
       "    }\n",
       "\n",
       "    .dataframe tbody tr th {\n",
       "        vertical-align: top;\n",
       "    }\n",
       "\n",
       "    .dataframe thead th {\n",
       "        text-align: right;\n",
       "    }\n",
       "</style>\n",
       "<table border=\"1\" class=\"dataframe\">\n",
       "  <thead>\n",
       "    <tr style=\"text-align: right;\">\n",
       "      <th>answer</th>\n",
       "      <th>state</th>\n",
       "      <th>poll_id</th>\n",
       "      <th>question_id</th>\n",
       "      <th>Biden</th>\n",
       "      <th>Trump</th>\n",
       "      <th>seats</th>\n",
       "      <th>Center</th>\n",
       "      <th>Stddev</th>\n",
       "    </tr>\n",
       "  </thead>\n",
       "  <tbody>\n",
       "    <tr>\n",
       "      <th>0</th>\n",
       "      <td>Alabama</td>\n",
       "      <td>70950.428571</td>\n",
       "      <td>132664.047619</td>\n",
       "      <td>39.769048</td>\n",
       "      <td>57.161429</td>\n",
       "      <td>9.0</td>\n",
       "      <td>41.303810</td>\n",
       "      <td>10.928810</td>\n",
       "    </tr>\n",
       "    <tr>\n",
       "      <th>1</th>\n",
       "      <td>Alaska</td>\n",
       "      <td>70976.818182</td>\n",
       "      <td>132717.727273</td>\n",
       "      <td>44.020000</td>\n",
       "      <td>52.478636</td>\n",
       "      <td>3.0</td>\n",
       "      <td>45.770682</td>\n",
       "      <td>6.558523</td>\n",
       "    </tr>\n",
       "    <tr>\n",
       "      <th>2</th>\n",
       "      <td>Arizona</td>\n",
       "      <td>70060.324324</td>\n",
       "      <td>130928.810811</td>\n",
       "      <td>49.248514</td>\n",
       "      <td>45.155946</td>\n",
       "      <td>11.0</td>\n",
       "      <td>52.046284</td>\n",
       "      <td>6.552061</td>\n",
       "    </tr>\n",
       "    <tr>\n",
       "      <th>3</th>\n",
       "      <td>Arkansas</td>\n",
       "      <td>71027.052632</td>\n",
       "      <td>132858.421053</td>\n",
       "      <td>38.753684</td>\n",
       "      <td>58.801579</td>\n",
       "      <td>6.0</td>\n",
       "      <td>39.976053</td>\n",
       "      <td>12.412763</td>\n",
       "    </tr>\n",
       "    <tr>\n",
       "      <th>4</th>\n",
       "      <td>California</td>\n",
       "      <td>70459.692308</td>\n",
       "      <td>131683.423077</td>\n",
       "      <td>62.081923</td>\n",
       "      <td>33.621154</td>\n",
       "      <td>55.0</td>\n",
       "      <td>64.230385</td>\n",
       "      <td>18.304615</td>\n",
       "    </tr>\n",
       "  </tbody>\n",
       "</table>\n",
       "</div>"
      ],
      "text/plain": [
       "answer       state       poll_id    question_id      Biden      Trump  seats  \\\n",
       "0          Alabama  70950.428571  132664.047619  39.769048  57.161429    9.0   \n",
       "1           Alaska  70976.818182  132717.727273  44.020000  52.478636    3.0   \n",
       "2          Arizona  70060.324324  130928.810811  49.248514  45.155946   11.0   \n",
       "3         Arkansas  71027.052632  132858.421053  38.753684  58.801579    6.0   \n",
       "4       California  70459.692308  131683.423077  62.081923  33.621154   55.0   \n",
       "\n",
       "answer     Center     Stddev  \n",
       "0       41.303810  10.928810  \n",
       "1       45.770682   6.558523  \n",
       "2       52.046284   6.552061  \n",
       "3       39.976053  12.412763  \n",
       "4       64.230385  18.304615  "
      ]
     },
     "execution_count": 99,
     "metadata": {},
     "output_type": "execute_result"
    }
   ],
   "source": [
    "poll_state_summary = (df\n",
    "                      .groupby('state')\n",
    "                      .mean()\n",
    "                      .reset_index())\n",
    "poll_state_summary.head()"
   ]
  },
  {
   "attachments": {},
   "cell_type": "markdown",
   "metadata": {},
   "source": [
    "### Simulation Time!\n",
    "We're going to generate a random number from the distribution.\n",
    "\n",
    "If it's above 50, we'll say Biden won the state.\n",
    "\n",
    "If it's below 50, we'll say Biden lost the state.\n",
    "\n",
    "If Biden wins the state, he gets the number of electoral seats that state represents.\n",
    "\n",
    "If he doesn't win he get's nothing.....just the way it is, live with it.\n",
    "\n",
    "This will give us a nice little series with the numbers representing the electoral seats she won from each state.\n",
    "\n",
    "The output table below shows for each state (in a each row), the number of seats Biden one. The column represents the results of one simulation."
   ]
  },
  {
   "cell_type": "code",
   "execution_count": null,
   "metadata": {},
   "outputs": [
    {
     "data": {
      "text/html": [
       "<div>\n",
       "<style scoped>\n",
       "    .dataframe tbody tr th:only-of-type {\n",
       "        vertical-align: middle;\n",
       "    }\n",
       "\n",
       "    .dataframe tbody tr th {\n",
       "        vertical-align: top;\n",
       "    }\n",
       "\n",
       "    .dataframe thead th {\n",
       "        text-align: right;\n",
       "    }\n",
       "</style>\n",
       "<table border=\"1\" class=\"dataframe\">\n",
       "  <thead>\n",
       "    <tr style=\"text-align: right;\">\n",
       "      <th></th>\n",
       "      <th>state</th>\n",
       "      <th>0</th>\n",
       "      <th>1</th>\n",
       "      <th>2</th>\n",
       "      <th>3</th>\n",
       "      <th>4</th>\n",
       "      <th>5</th>\n",
       "      <th>6</th>\n",
       "      <th>7</th>\n",
       "      <th>8</th>\n",
       "      <th>9</th>\n",
       "    </tr>\n",
       "  </thead>\n",
       "  <tbody>\n",
       "    <tr>\n",
       "      <th>0</th>\n",
       "      <td>Alabama</td>\n",
       "      <td>0.0</td>\n",
       "      <td>9.0</td>\n",
       "      <td>0.0</td>\n",
       "      <td>0.0</td>\n",
       "      <td>0.0</td>\n",
       "      <td>0.0</td>\n",
       "      <td>0.0</td>\n",
       "      <td>0.0</td>\n",
       "      <td>0.0</td>\n",
       "      <td>0.0</td>\n",
       "    </tr>\n",
       "    <tr>\n",
       "      <th>1</th>\n",
       "      <td>Alaska</td>\n",
       "      <td>0.0</td>\n",
       "      <td>3.0</td>\n",
       "      <td>0.0</td>\n",
       "      <td>0.0</td>\n",
       "      <td>0.0</td>\n",
       "      <td>3.0</td>\n",
       "      <td>3.0</td>\n",
       "      <td>0.0</td>\n",
       "      <td>0.0</td>\n",
       "      <td>0.0</td>\n",
       "    </tr>\n",
       "    <tr>\n",
       "      <th>2</th>\n",
       "      <td>Arizona</td>\n",
       "      <td>11.0</td>\n",
       "      <td>0.0</td>\n",
       "      <td>11.0</td>\n",
       "      <td>11.0</td>\n",
       "      <td>11.0</td>\n",
       "      <td>11.0</td>\n",
       "      <td>11.0</td>\n",
       "      <td>0.0</td>\n",
       "      <td>0.0</td>\n",
       "      <td>11.0</td>\n",
       "    </tr>\n",
       "    <tr>\n",
       "      <th>3</th>\n",
       "      <td>Arkansas</td>\n",
       "      <td>0.0</td>\n",
       "      <td>0.0</td>\n",
       "      <td>0.0</td>\n",
       "      <td>0.0</td>\n",
       "      <td>0.0</td>\n",
       "      <td>6.0</td>\n",
       "      <td>0.0</td>\n",
       "      <td>6.0</td>\n",
       "      <td>0.0</td>\n",
       "      <td>0.0</td>\n",
       "    </tr>\n",
       "    <tr>\n",
       "      <th>4</th>\n",
       "      <td>California</td>\n",
       "      <td>55.0</td>\n",
       "      <td>55.0</td>\n",
       "      <td>0.0</td>\n",
       "      <td>55.0</td>\n",
       "      <td>0.0</td>\n",
       "      <td>55.0</td>\n",
       "      <td>0.0</td>\n",
       "      <td>55.0</td>\n",
       "      <td>55.0</td>\n",
       "      <td>55.0</td>\n",
       "    </tr>\n",
       "    <tr>\n",
       "      <th>5</th>\n",
       "      <td>Colorado</td>\n",
       "      <td>9.0</td>\n",
       "      <td>9.0</td>\n",
       "      <td>0.0</td>\n",
       "      <td>9.0</td>\n",
       "      <td>0.0</td>\n",
       "      <td>9.0</td>\n",
       "      <td>9.0</td>\n",
       "      <td>9.0</td>\n",
       "      <td>9.0</td>\n",
       "      <td>9.0</td>\n",
       "    </tr>\n",
       "    <tr>\n",
       "      <th>6</th>\n",
       "      <td>Connecticut</td>\n",
       "      <td>0.0</td>\n",
       "      <td>0.0</td>\n",
       "      <td>7.0</td>\n",
       "      <td>7.0</td>\n",
       "      <td>7.0</td>\n",
       "      <td>0.0</td>\n",
       "      <td>7.0</td>\n",
       "      <td>0.0</td>\n",
       "      <td>7.0</td>\n",
       "      <td>0.0</td>\n",
       "    </tr>\n",
       "    <tr>\n",
       "      <th>7</th>\n",
       "      <td>Delaware</td>\n",
       "      <td>0.0</td>\n",
       "      <td>3.0</td>\n",
       "      <td>3.0</td>\n",
       "      <td>3.0</td>\n",
       "      <td>0.0</td>\n",
       "      <td>3.0</td>\n",
       "      <td>3.0</td>\n",
       "      <td>3.0</td>\n",
       "      <td>3.0</td>\n",
       "      <td>0.0</td>\n",
       "    </tr>\n",
       "    <tr>\n",
       "      <th>8</th>\n",
       "      <td>District of Columbia</td>\n",
       "      <td>3.0</td>\n",
       "      <td>3.0</td>\n",
       "      <td>3.0</td>\n",
       "      <td>3.0</td>\n",
       "      <td>3.0</td>\n",
       "      <td>3.0</td>\n",
       "      <td>3.0</td>\n",
       "      <td>3.0</td>\n",
       "      <td>3.0</td>\n",
       "      <td>3.0</td>\n",
       "    </tr>\n",
       "    <tr>\n",
       "      <th>9</th>\n",
       "      <td>Florida</td>\n",
       "      <td>29.0</td>\n",
       "      <td>29.0</td>\n",
       "      <td>29.0</td>\n",
       "      <td>29.0</td>\n",
       "      <td>29.0</td>\n",
       "      <td>0.0</td>\n",
       "      <td>0.0</td>\n",
       "      <td>29.0</td>\n",
       "      <td>29.0</td>\n",
       "      <td>29.0</td>\n",
       "    </tr>\n",
       "    <tr>\n",
       "      <th>10</th>\n",
       "      <td>Georgia</td>\n",
       "      <td>16.0</td>\n",
       "      <td>16.0</td>\n",
       "      <td>0.0</td>\n",
       "      <td>0.0</td>\n",
       "      <td>16.0</td>\n",
       "      <td>16.0</td>\n",
       "      <td>16.0</td>\n",
       "      <td>16.0</td>\n",
       "      <td>16.0</td>\n",
       "      <td>16.0</td>\n",
       "    </tr>\n",
       "    <tr>\n",
       "      <th>11</th>\n",
       "      <td>Hawaii</td>\n",
       "      <td>4.0</td>\n",
       "      <td>0.0</td>\n",
       "      <td>4.0</td>\n",
       "      <td>4.0</td>\n",
       "      <td>4.0</td>\n",
       "      <td>0.0</td>\n",
       "      <td>4.0</td>\n",
       "      <td>4.0</td>\n",
       "      <td>4.0</td>\n",
       "      <td>0.0</td>\n",
       "    </tr>\n",
       "    <tr>\n",
       "      <th>12</th>\n",
       "      <td>Idaho</td>\n",
       "      <td>0.0</td>\n",
       "      <td>0.0</td>\n",
       "      <td>0.0</td>\n",
       "      <td>0.0</td>\n",
       "      <td>0.0</td>\n",
       "      <td>0.0</td>\n",
       "      <td>0.0</td>\n",
       "      <td>4.0</td>\n",
       "      <td>0.0</td>\n",
       "      <td>4.0</td>\n",
       "    </tr>\n",
       "    <tr>\n",
       "      <th>13</th>\n",
       "      <td>Illinois</td>\n",
       "      <td>20.0</td>\n",
       "      <td>20.0</td>\n",
       "      <td>0.0</td>\n",
       "      <td>0.0</td>\n",
       "      <td>20.0</td>\n",
       "      <td>0.0</td>\n",
       "      <td>20.0</td>\n",
       "      <td>0.0</td>\n",
       "      <td>20.0</td>\n",
       "      <td>20.0</td>\n",
       "    </tr>\n",
       "    <tr>\n",
       "      <th>14</th>\n",
       "      <td>Indiana</td>\n",
       "      <td>0.0</td>\n",
       "      <td>0.0</td>\n",
       "      <td>0.0</td>\n",
       "      <td>11.0</td>\n",
       "      <td>0.0</td>\n",
       "      <td>0.0</td>\n",
       "      <td>0.0</td>\n",
       "      <td>11.0</td>\n",
       "      <td>0.0</td>\n",
       "      <td>0.0</td>\n",
       "    </tr>\n",
       "    <tr>\n",
       "      <th>15</th>\n",
       "      <td>Iowa</td>\n",
       "      <td>6.0</td>\n",
       "      <td>6.0</td>\n",
       "      <td>0.0</td>\n",
       "      <td>0.0</td>\n",
       "      <td>0.0</td>\n",
       "      <td>0.0</td>\n",
       "      <td>0.0</td>\n",
       "      <td>0.0</td>\n",
       "      <td>6.0</td>\n",
       "      <td>6.0</td>\n",
       "    </tr>\n",
       "    <tr>\n",
       "      <th>16</th>\n",
       "      <td>Kansas</td>\n",
       "      <td>0.0</td>\n",
       "      <td>6.0</td>\n",
       "      <td>0.0</td>\n",
       "      <td>6.0</td>\n",
       "      <td>6.0</td>\n",
       "      <td>0.0</td>\n",
       "      <td>0.0</td>\n",
       "      <td>0.0</td>\n",
       "      <td>0.0</td>\n",
       "      <td>0.0</td>\n",
       "    </tr>\n",
       "    <tr>\n",
       "      <th>17</th>\n",
       "      <td>Kentucky</td>\n",
       "      <td>0.0</td>\n",
       "      <td>8.0</td>\n",
       "      <td>8.0</td>\n",
       "      <td>0.0</td>\n",
       "      <td>0.0</td>\n",
       "      <td>0.0</td>\n",
       "      <td>0.0</td>\n",
       "      <td>0.0</td>\n",
       "      <td>0.0</td>\n",
       "      <td>0.0</td>\n",
       "    </tr>\n",
       "    <tr>\n",
       "      <th>18</th>\n",
       "      <td>Louisiana</td>\n",
       "      <td>0.0</td>\n",
       "      <td>8.0</td>\n",
       "      <td>8.0</td>\n",
       "      <td>0.0</td>\n",
       "      <td>8.0</td>\n",
       "      <td>0.0</td>\n",
       "      <td>0.0</td>\n",
       "      <td>0.0</td>\n",
       "      <td>0.0</td>\n",
       "      <td>0.0</td>\n",
       "    </tr>\n",
       "    <tr>\n",
       "      <th>19</th>\n",
       "      <td>Maine</td>\n",
       "      <td>4.0</td>\n",
       "      <td>4.0</td>\n",
       "      <td>0.0</td>\n",
       "      <td>4.0</td>\n",
       "      <td>0.0</td>\n",
       "      <td>0.0</td>\n",
       "      <td>4.0</td>\n",
       "      <td>4.0</td>\n",
       "      <td>4.0</td>\n",
       "      <td>4.0</td>\n",
       "    </tr>\n",
       "    <tr>\n",
       "      <th>20</th>\n",
       "      <td>Maryland</td>\n",
       "      <td>0.0</td>\n",
       "      <td>10.0</td>\n",
       "      <td>10.0</td>\n",
       "      <td>10.0</td>\n",
       "      <td>10.0</td>\n",
       "      <td>10.0</td>\n",
       "      <td>0.0</td>\n",
       "      <td>0.0</td>\n",
       "      <td>0.0</td>\n",
       "      <td>10.0</td>\n",
       "    </tr>\n",
       "    <tr>\n",
       "      <th>21</th>\n",
       "      <td>Massachusetts</td>\n",
       "      <td>11.0</td>\n",
       "      <td>11.0</td>\n",
       "      <td>11.0</td>\n",
       "      <td>11.0</td>\n",
       "      <td>11.0</td>\n",
       "      <td>11.0</td>\n",
       "      <td>11.0</td>\n",
       "      <td>11.0</td>\n",
       "      <td>11.0</td>\n",
       "      <td>11.0</td>\n",
       "    </tr>\n",
       "    <tr>\n",
       "      <th>22</th>\n",
       "      <td>Michigan</td>\n",
       "      <td>0.0</td>\n",
       "      <td>0.0</td>\n",
       "      <td>0.0</td>\n",
       "      <td>16.0</td>\n",
       "      <td>16.0</td>\n",
       "      <td>0.0</td>\n",
       "      <td>0.0</td>\n",
       "      <td>16.0</td>\n",
       "      <td>16.0</td>\n",
       "      <td>0.0</td>\n",
       "    </tr>\n",
       "    <tr>\n",
       "      <th>23</th>\n",
       "      <td>Minnesota</td>\n",
       "      <td>10.0</td>\n",
       "      <td>10.0</td>\n",
       "      <td>10.0</td>\n",
       "      <td>10.0</td>\n",
       "      <td>10.0</td>\n",
       "      <td>10.0</td>\n",
       "      <td>10.0</td>\n",
       "      <td>10.0</td>\n",
       "      <td>10.0</td>\n",
       "      <td>0.0</td>\n",
       "    </tr>\n",
       "    <tr>\n",
       "      <th>24</th>\n",
       "      <td>Mississippi</td>\n",
       "      <td>0.0</td>\n",
       "      <td>0.0</td>\n",
       "      <td>6.0</td>\n",
       "      <td>0.0</td>\n",
       "      <td>0.0</td>\n",
       "      <td>0.0</td>\n",
       "      <td>6.0</td>\n",
       "      <td>0.0</td>\n",
       "      <td>0.0</td>\n",
       "      <td>6.0</td>\n",
       "    </tr>\n",
       "    <tr>\n",
       "      <th>25</th>\n",
       "      <td>Missouri</td>\n",
       "      <td>0.0</td>\n",
       "      <td>0.0</td>\n",
       "      <td>0.0</td>\n",
       "      <td>10.0</td>\n",
       "      <td>0.0</td>\n",
       "      <td>0.0</td>\n",
       "      <td>0.0</td>\n",
       "      <td>0.0</td>\n",
       "      <td>0.0</td>\n",
       "      <td>0.0</td>\n",
       "    </tr>\n",
       "    <tr>\n",
       "      <th>26</th>\n",
       "      <td>Montana</td>\n",
       "      <td>0.0</td>\n",
       "      <td>3.0</td>\n",
       "      <td>0.0</td>\n",
       "      <td>3.0</td>\n",
       "      <td>0.0</td>\n",
       "      <td>0.0</td>\n",
       "      <td>0.0</td>\n",
       "      <td>3.0</td>\n",
       "      <td>0.0</td>\n",
       "      <td>0.0</td>\n",
       "    </tr>\n",
       "    <tr>\n",
       "      <th>27</th>\n",
       "      <td>Nebraska</td>\n",
       "      <td>5.0</td>\n",
       "      <td>5.0</td>\n",
       "      <td>5.0</td>\n",
       "      <td>5.0</td>\n",
       "      <td>0.0</td>\n",
       "      <td>0.0</td>\n",
       "      <td>0.0</td>\n",
       "      <td>5.0</td>\n",
       "      <td>5.0</td>\n",
       "      <td>0.0</td>\n",
       "    </tr>\n",
       "    <tr>\n",
       "      <th>28</th>\n",
       "      <td>Nevada</td>\n",
       "      <td>6.0</td>\n",
       "      <td>6.0</td>\n",
       "      <td>6.0</td>\n",
       "      <td>0.0</td>\n",
       "      <td>6.0</td>\n",
       "      <td>0.0</td>\n",
       "      <td>0.0</td>\n",
       "      <td>6.0</td>\n",
       "      <td>6.0</td>\n",
       "      <td>6.0</td>\n",
       "    </tr>\n",
       "    <tr>\n",
       "      <th>29</th>\n",
       "      <td>New Hampshire</td>\n",
       "      <td>4.0</td>\n",
       "      <td>4.0</td>\n",
       "      <td>0.0</td>\n",
       "      <td>4.0</td>\n",
       "      <td>0.0</td>\n",
       "      <td>0.0</td>\n",
       "      <td>4.0</td>\n",
       "      <td>4.0</td>\n",
       "      <td>0.0</td>\n",
       "      <td>4.0</td>\n",
       "    </tr>\n",
       "    <tr>\n",
       "      <th>30</th>\n",
       "      <td>New Jersey</td>\n",
       "      <td>14.0</td>\n",
       "      <td>0.0</td>\n",
       "      <td>14.0</td>\n",
       "      <td>14.0</td>\n",
       "      <td>14.0</td>\n",
       "      <td>0.0</td>\n",
       "      <td>14.0</td>\n",
       "      <td>14.0</td>\n",
       "      <td>0.0</td>\n",
       "      <td>14.0</td>\n",
       "    </tr>\n",
       "    <tr>\n",
       "      <th>31</th>\n",
       "      <td>New Mexico</td>\n",
       "      <td>5.0</td>\n",
       "      <td>5.0</td>\n",
       "      <td>5.0</td>\n",
       "      <td>0.0</td>\n",
       "      <td>0.0</td>\n",
       "      <td>0.0</td>\n",
       "      <td>5.0</td>\n",
       "      <td>5.0</td>\n",
       "      <td>0.0</td>\n",
       "      <td>5.0</td>\n",
       "    </tr>\n",
       "    <tr>\n",
       "      <th>32</th>\n",
       "      <td>New York</td>\n",
       "      <td>29.0</td>\n",
       "      <td>0.0</td>\n",
       "      <td>29.0</td>\n",
       "      <td>29.0</td>\n",
       "      <td>29.0</td>\n",
       "      <td>29.0</td>\n",
       "      <td>0.0</td>\n",
       "      <td>29.0</td>\n",
       "      <td>29.0</td>\n",
       "      <td>29.0</td>\n",
       "    </tr>\n",
       "    <tr>\n",
       "      <th>33</th>\n",
       "      <td>North Carolina</td>\n",
       "      <td>15.0</td>\n",
       "      <td>15.0</td>\n",
       "      <td>15.0</td>\n",
       "      <td>15.0</td>\n",
       "      <td>15.0</td>\n",
       "      <td>0.0</td>\n",
       "      <td>15.0</td>\n",
       "      <td>15.0</td>\n",
       "      <td>0.0</td>\n",
       "      <td>15.0</td>\n",
       "    </tr>\n",
       "    <tr>\n",
       "      <th>34</th>\n",
       "      <td>North Dakota</td>\n",
       "      <td>3.0</td>\n",
       "      <td>0.0</td>\n",
       "      <td>0.0</td>\n",
       "      <td>0.0</td>\n",
       "      <td>0.0</td>\n",
       "      <td>3.0</td>\n",
       "      <td>0.0</td>\n",
       "      <td>0.0</td>\n",
       "      <td>3.0</td>\n",
       "      <td>0.0</td>\n",
       "    </tr>\n",
       "    <tr>\n",
       "      <th>35</th>\n",
       "      <td>Ohio</td>\n",
       "      <td>0.0</td>\n",
       "      <td>18.0</td>\n",
       "      <td>18.0</td>\n",
       "      <td>0.0</td>\n",
       "      <td>0.0</td>\n",
       "      <td>18.0</td>\n",
       "      <td>0.0</td>\n",
       "      <td>18.0</td>\n",
       "      <td>18.0</td>\n",
       "      <td>0.0</td>\n",
       "    </tr>\n",
       "    <tr>\n",
       "      <th>36</th>\n",
       "      <td>Oklahoma</td>\n",
       "      <td>0.0</td>\n",
       "      <td>0.0</td>\n",
       "      <td>0.0</td>\n",
       "      <td>0.0</td>\n",
       "      <td>0.0</td>\n",
       "      <td>0.0</td>\n",
       "      <td>7.0</td>\n",
       "      <td>7.0</td>\n",
       "      <td>0.0</td>\n",
       "      <td>0.0</td>\n",
       "    </tr>\n",
       "    <tr>\n",
       "      <th>37</th>\n",
       "      <td>Oregon</td>\n",
       "      <td>7.0</td>\n",
       "      <td>7.0</td>\n",
       "      <td>7.0</td>\n",
       "      <td>0.0</td>\n",
       "      <td>7.0</td>\n",
       "      <td>0.0</td>\n",
       "      <td>7.0</td>\n",
       "      <td>7.0</td>\n",
       "      <td>0.0</td>\n",
       "      <td>0.0</td>\n",
       "    </tr>\n",
       "    <tr>\n",
       "      <th>38</th>\n",
       "      <td>Pennsylvania</td>\n",
       "      <td>0.0</td>\n",
       "      <td>20.0</td>\n",
       "      <td>0.0</td>\n",
       "      <td>20.0</td>\n",
       "      <td>0.0</td>\n",
       "      <td>20.0</td>\n",
       "      <td>20.0</td>\n",
       "      <td>0.0</td>\n",
       "      <td>0.0</td>\n",
       "      <td>0.0</td>\n",
       "    </tr>\n",
       "    <tr>\n",
       "      <th>39</th>\n",
       "      <td>Rhode Island</td>\n",
       "      <td>4.0</td>\n",
       "      <td>4.0</td>\n",
       "      <td>4.0</td>\n",
       "      <td>4.0</td>\n",
       "      <td>4.0</td>\n",
       "      <td>0.0</td>\n",
       "      <td>4.0</td>\n",
       "      <td>4.0</td>\n",
       "      <td>4.0</td>\n",
       "      <td>4.0</td>\n",
       "    </tr>\n",
       "    <tr>\n",
       "      <th>40</th>\n",
       "      <td>South Carolina</td>\n",
       "      <td>0.0</td>\n",
       "      <td>0.0</td>\n",
       "      <td>0.0</td>\n",
       "      <td>9.0</td>\n",
       "      <td>0.0</td>\n",
       "      <td>0.0</td>\n",
       "      <td>9.0</td>\n",
       "      <td>0.0</td>\n",
       "      <td>0.0</td>\n",
       "      <td>9.0</td>\n",
       "    </tr>\n",
       "    <tr>\n",
       "      <th>41</th>\n",
       "      <td>South Dakota</td>\n",
       "      <td>0.0</td>\n",
       "      <td>3.0</td>\n",
       "      <td>3.0</td>\n",
       "      <td>0.0</td>\n",
       "      <td>0.0</td>\n",
       "      <td>0.0</td>\n",
       "      <td>3.0</td>\n",
       "      <td>3.0</td>\n",
       "      <td>3.0</td>\n",
       "      <td>0.0</td>\n",
       "    </tr>\n",
       "    <tr>\n",
       "      <th>42</th>\n",
       "      <td>Tennessee</td>\n",
       "      <td>0.0</td>\n",
       "      <td>11.0</td>\n",
       "      <td>11.0</td>\n",
       "      <td>0.0</td>\n",
       "      <td>0.0</td>\n",
       "      <td>11.0</td>\n",
       "      <td>0.0</td>\n",
       "      <td>0.0</td>\n",
       "      <td>11.0</td>\n",
       "      <td>11.0</td>\n",
       "    </tr>\n",
       "    <tr>\n",
       "      <th>43</th>\n",
       "      <td>Texas</td>\n",
       "      <td>0.0</td>\n",
       "      <td>38.0</td>\n",
       "      <td>0.0</td>\n",
       "      <td>38.0</td>\n",
       "      <td>0.0</td>\n",
       "      <td>0.0</td>\n",
       "      <td>0.0</td>\n",
       "      <td>38.0</td>\n",
       "      <td>0.0</td>\n",
       "      <td>0.0</td>\n",
       "    </tr>\n",
       "    <tr>\n",
       "      <th>44</th>\n",
       "      <td>Utah</td>\n",
       "      <td>0.0</td>\n",
       "      <td>0.0</td>\n",
       "      <td>0.0</td>\n",
       "      <td>0.0</td>\n",
       "      <td>0.0</td>\n",
       "      <td>0.0</td>\n",
       "      <td>0.0</td>\n",
       "      <td>6.0</td>\n",
       "      <td>6.0</td>\n",
       "      <td>0.0</td>\n",
       "    </tr>\n",
       "    <tr>\n",
       "      <th>45</th>\n",
       "      <td>Vermont</td>\n",
       "      <td>3.0</td>\n",
       "      <td>3.0</td>\n",
       "      <td>3.0</td>\n",
       "      <td>3.0</td>\n",
       "      <td>0.0</td>\n",
       "      <td>3.0</td>\n",
       "      <td>3.0</td>\n",
       "      <td>3.0</td>\n",
       "      <td>3.0</td>\n",
       "      <td>3.0</td>\n",
       "    </tr>\n",
       "    <tr>\n",
       "      <th>46</th>\n",
       "      <td>Virginia</td>\n",
       "      <td>13.0</td>\n",
       "      <td>0.0</td>\n",
       "      <td>0.0</td>\n",
       "      <td>13.0</td>\n",
       "      <td>0.0</td>\n",
       "      <td>0.0</td>\n",
       "      <td>13.0</td>\n",
       "      <td>0.0</td>\n",
       "      <td>13.0</td>\n",
       "      <td>13.0</td>\n",
       "    </tr>\n",
       "    <tr>\n",
       "      <th>47</th>\n",
       "      <td>Washington</td>\n",
       "      <td>12.0</td>\n",
       "      <td>12.0</td>\n",
       "      <td>12.0</td>\n",
       "      <td>0.0</td>\n",
       "      <td>12.0</td>\n",
       "      <td>0.0</td>\n",
       "      <td>12.0</td>\n",
       "      <td>12.0</td>\n",
       "      <td>12.0</td>\n",
       "      <td>12.0</td>\n",
       "    </tr>\n",
       "    <tr>\n",
       "      <th>48</th>\n",
       "      <td>West Virginia</td>\n",
       "      <td>0.0</td>\n",
       "      <td>0.0</td>\n",
       "      <td>5.0</td>\n",
       "      <td>0.0</td>\n",
       "      <td>0.0</td>\n",
       "      <td>5.0</td>\n",
       "      <td>0.0</td>\n",
       "      <td>0.0</td>\n",
       "      <td>0.0</td>\n",
       "      <td>0.0</td>\n",
       "    </tr>\n",
       "    <tr>\n",
       "      <th>49</th>\n",
       "      <td>Wisconsin</td>\n",
       "      <td>10.0</td>\n",
       "      <td>10.0</td>\n",
       "      <td>10.0</td>\n",
       "      <td>0.0</td>\n",
       "      <td>10.0</td>\n",
       "      <td>10.0</td>\n",
       "      <td>10.0</td>\n",
       "      <td>10.0</td>\n",
       "      <td>10.0</td>\n",
       "      <td>10.0</td>\n",
       "    </tr>\n",
       "    <tr>\n",
       "      <th>50</th>\n",
       "      <td>Wyoming</td>\n",
       "      <td>0.0</td>\n",
       "      <td>0.0</td>\n",
       "      <td>0.0</td>\n",
       "      <td>0.0</td>\n",
       "      <td>0.0</td>\n",
       "      <td>0.0</td>\n",
       "      <td>0.0</td>\n",
       "      <td>0.0</td>\n",
       "      <td>0.0</td>\n",
       "      <td>0.0</td>\n",
       "    </tr>\n",
       "    <tr>\n",
       "      <th>Total</th>\n",
       "      <td>NaN</td>\n",
       "      <td>308.0</td>\n",
       "      <td>374.0</td>\n",
       "      <td>257.0</td>\n",
       "      <td>356.0</td>\n",
       "      <td>248.0</td>\n",
       "      <td>236.0</td>\n",
       "      <td>233.0</td>\n",
       "      <td>370.0</td>\n",
       "      <td>316.0</td>\n",
       "      <td>319.0</td>\n",
       "    </tr>\n",
       "  </tbody>\n",
       "</table>\n",
       "</div>"
      ],
      "text/plain": [
       "                      state      0      1      2      3      4      5      6  \\\n",
       "0                   Alabama    0.0    9.0    0.0    0.0    0.0    0.0    0.0   \n",
       "1                    Alaska    0.0    3.0    0.0    0.0    0.0    3.0    3.0   \n",
       "2                   Arizona   11.0    0.0   11.0   11.0   11.0   11.0   11.0   \n",
       "3                  Arkansas    0.0    0.0    0.0    0.0    0.0    6.0    0.0   \n",
       "4                California   55.0   55.0    0.0   55.0    0.0   55.0    0.0   \n",
       "5                  Colorado    9.0    9.0    0.0    9.0    0.0    9.0    9.0   \n",
       "6               Connecticut    0.0    0.0    7.0    7.0    7.0    0.0    7.0   \n",
       "7                  Delaware    0.0    3.0    3.0    3.0    0.0    3.0    3.0   \n",
       "8      District of Columbia    3.0    3.0    3.0    3.0    3.0    3.0    3.0   \n",
       "9                   Florida   29.0   29.0   29.0   29.0   29.0    0.0    0.0   \n",
       "10                  Georgia   16.0   16.0    0.0    0.0   16.0   16.0   16.0   \n",
       "11                   Hawaii    4.0    0.0    4.0    4.0    4.0    0.0    4.0   \n",
       "12                    Idaho    0.0    0.0    0.0    0.0    0.0    0.0    0.0   \n",
       "13                 Illinois   20.0   20.0    0.0    0.0   20.0    0.0   20.0   \n",
       "14                  Indiana    0.0    0.0    0.0   11.0    0.0    0.0    0.0   \n",
       "15                     Iowa    6.0    6.0    0.0    0.0    0.0    0.0    0.0   \n",
       "16                   Kansas    0.0    6.0    0.0    6.0    6.0    0.0    0.0   \n",
       "17                 Kentucky    0.0    8.0    8.0    0.0    0.0    0.0    0.0   \n",
       "18                Louisiana    0.0    8.0    8.0    0.0    8.0    0.0    0.0   \n",
       "19                    Maine    4.0    4.0    0.0    4.0    0.0    0.0    4.0   \n",
       "20                 Maryland    0.0   10.0   10.0   10.0   10.0   10.0    0.0   \n",
       "21            Massachusetts   11.0   11.0   11.0   11.0   11.0   11.0   11.0   \n",
       "22                 Michigan    0.0    0.0    0.0   16.0   16.0    0.0    0.0   \n",
       "23                Minnesota   10.0   10.0   10.0   10.0   10.0   10.0   10.0   \n",
       "24              Mississippi    0.0    0.0    6.0    0.0    0.0    0.0    6.0   \n",
       "25                 Missouri    0.0    0.0    0.0   10.0    0.0    0.0    0.0   \n",
       "26                  Montana    0.0    3.0    0.0    3.0    0.0    0.0    0.0   \n",
       "27                 Nebraska    5.0    5.0    5.0    5.0    0.0    0.0    0.0   \n",
       "28                   Nevada    6.0    6.0    6.0    0.0    6.0    0.0    0.0   \n",
       "29            New Hampshire    4.0    4.0    0.0    4.0    0.0    0.0    4.0   \n",
       "30               New Jersey   14.0    0.0   14.0   14.0   14.0    0.0   14.0   \n",
       "31               New Mexico    5.0    5.0    5.0    0.0    0.0    0.0    5.0   \n",
       "32                 New York   29.0    0.0   29.0   29.0   29.0   29.0    0.0   \n",
       "33           North Carolina   15.0   15.0   15.0   15.0   15.0    0.0   15.0   \n",
       "34             North Dakota    3.0    0.0    0.0    0.0    0.0    3.0    0.0   \n",
       "35                     Ohio    0.0   18.0   18.0    0.0    0.0   18.0    0.0   \n",
       "36                 Oklahoma    0.0    0.0    0.0    0.0    0.0    0.0    7.0   \n",
       "37                   Oregon    7.0    7.0    7.0    0.0    7.0    0.0    7.0   \n",
       "38             Pennsylvania    0.0   20.0    0.0   20.0    0.0   20.0   20.0   \n",
       "39             Rhode Island    4.0    4.0    4.0    4.0    4.0    0.0    4.0   \n",
       "40           South Carolina    0.0    0.0    0.0    9.0    0.0    0.0    9.0   \n",
       "41             South Dakota    0.0    3.0    3.0    0.0    0.0    0.0    3.0   \n",
       "42                Tennessee    0.0   11.0   11.0    0.0    0.0   11.0    0.0   \n",
       "43                    Texas    0.0   38.0    0.0   38.0    0.0    0.0    0.0   \n",
       "44                     Utah    0.0    0.0    0.0    0.0    0.0    0.0    0.0   \n",
       "45                  Vermont    3.0    3.0    3.0    3.0    0.0    3.0    3.0   \n",
       "46                 Virginia   13.0    0.0    0.0   13.0    0.0    0.0   13.0   \n",
       "47               Washington   12.0   12.0   12.0    0.0   12.0    0.0   12.0   \n",
       "48            West Virginia    0.0    0.0    5.0    0.0    0.0    5.0    0.0   \n",
       "49                Wisconsin   10.0   10.0   10.0    0.0   10.0   10.0   10.0   \n",
       "50                  Wyoming    0.0    0.0    0.0    0.0    0.0    0.0    0.0   \n",
       "Total                   NaN  308.0  374.0  257.0  356.0  248.0  236.0  233.0   \n",
       "\n",
       "           7      8      9  \n",
       "0        0.0    0.0    0.0  \n",
       "1        0.0    0.0    0.0  \n",
       "2        0.0    0.0   11.0  \n",
       "3        6.0    0.0    0.0  \n",
       "4       55.0   55.0   55.0  \n",
       "5        9.0    9.0    9.0  \n",
       "6        0.0    7.0    0.0  \n",
       "7        3.0    3.0    0.0  \n",
       "8        3.0    3.0    3.0  \n",
       "9       29.0   29.0   29.0  \n",
       "10      16.0   16.0   16.0  \n",
       "11       4.0    4.0    0.0  \n",
       "12       4.0    0.0    4.0  \n",
       "13       0.0   20.0   20.0  \n",
       "14      11.0    0.0    0.0  \n",
       "15       0.0    6.0    6.0  \n",
       "16       0.0    0.0    0.0  \n",
       "17       0.0    0.0    0.0  \n",
       "18       0.0    0.0    0.0  \n",
       "19       4.0    4.0    4.0  \n",
       "20       0.0    0.0   10.0  \n",
       "21      11.0   11.0   11.0  \n",
       "22      16.0   16.0    0.0  \n",
       "23      10.0   10.0    0.0  \n",
       "24       0.0    0.0    6.0  \n",
       "25       0.0    0.0    0.0  \n",
       "26       3.0    0.0    0.0  \n",
       "27       5.0    5.0    0.0  \n",
       "28       6.0    6.0    6.0  \n",
       "29       4.0    0.0    4.0  \n",
       "30      14.0    0.0   14.0  \n",
       "31       5.0    0.0    5.0  \n",
       "32      29.0   29.0   29.0  \n",
       "33      15.0    0.0   15.0  \n",
       "34       0.0    3.0    0.0  \n",
       "35      18.0   18.0    0.0  \n",
       "36       7.0    0.0    0.0  \n",
       "37       7.0    0.0    0.0  \n",
       "38       0.0    0.0    0.0  \n",
       "39       4.0    4.0    4.0  \n",
       "40       0.0    0.0    9.0  \n",
       "41       3.0    3.0    0.0  \n",
       "42       0.0   11.0   11.0  \n",
       "43      38.0    0.0    0.0  \n",
       "44       6.0    6.0    0.0  \n",
       "45       3.0    3.0    3.0  \n",
       "46       0.0   13.0   13.0  \n",
       "47      12.0   12.0   12.0  \n",
       "48       0.0    0.0    0.0  \n",
       "49      10.0   10.0   10.0  \n",
       "50       0.0    0.0    0.0  \n",
       "Total  370.0  316.0  319.0  "
      ]
     },
     "execution_count": 129,
     "metadata": {},
     "output_type": "execute_result"
    }
   ],
   "source": [
    "from numpy.random import normal\n",
    "import ipykernel\n",
    "ipykernel.__version__\n",
    "def run_election_simulation(times, polls):\n",
    "    # create a blank data frame\n",
    "    result = pd.DataFrame()\n",
    "    \n",
    "    def get_seats(row):\n",
    "        # using normal distribution for given mean and std\n",
    "        # if the normal distribution value is greater than 50 then that indicates a win for Biden\n",
    "        sample = normal(row['Center'], row['Stddev'])\n",
    "        return row[\"seats\"] if sample > 50 else 0\n",
    "    for i in range(times):\n",
    "        result[i] = polls.apply(get_seats, axis=1)\n",
    "    \n",
    "    return result\n",
    "\n",
    "# given an example of the output\n",
    "res = run_election_simulation(10, poll_state_summary)\n",
    "res.loc['Total',:] = res.sum(axis=0)\n",
    "\n",
    "# Adding State Name to Results DF\n",
    "res = pd.concat([poll_state_summary['state'], res], axis=1, sort=False)\n",
    "\n",
    "# A 0.0 means Biden didn't win that seat, or that Trump won that seat\n",
    "res"
   ]
  },
  {
   "attachments": {},
   "cell_type": "markdown",
   "metadata": {},
   "source": [
    "### Let's analyze the above simulated results on a per state level"
   ]
  },
  {
   "cell_type": "code",
   "execution_count": null,
   "metadata": {},
   "outputs": [
    {
     "data": {
      "text/html": [
       "<div>\n",
       "<style scoped>\n",
       "    .dataframe tbody tr th:only-of-type {\n",
       "        vertical-align: middle;\n",
       "    }\n",
       "\n",
       "    .dataframe tbody tr th {\n",
       "        vertical-align: top;\n",
       "    }\n",
       "\n",
       "    .dataframe thead th {\n",
       "        text-align: right;\n",
       "    }\n",
       "</style>\n",
       "<table border=\"1\" class=\"dataframe\">\n",
       "  <thead>\n",
       "    <tr style=\"text-align: right;\">\n",
       "      <th></th>\n",
       "      <th>state</th>\n",
       "      <th>trump_wins</th>\n",
       "      <th>percent_trump_wins</th>\n",
       "    </tr>\n",
       "  </thead>\n",
       "  <tbody>\n",
       "    <tr>\n",
       "      <th>0</th>\n",
       "      <td>Alabama</td>\n",
       "      <td>9</td>\n",
       "      <td>90.0</td>\n",
       "    </tr>\n",
       "    <tr>\n",
       "      <th>1</th>\n",
       "      <td>Alaska</td>\n",
       "      <td>7</td>\n",
       "      <td>70.0</td>\n",
       "    </tr>\n",
       "    <tr>\n",
       "      <th>2</th>\n",
       "      <td>Arizona</td>\n",
       "      <td>3</td>\n",
       "      <td>30.0</td>\n",
       "    </tr>\n",
       "    <tr>\n",
       "      <th>3</th>\n",
       "      <td>Arkansas</td>\n",
       "      <td>8</td>\n",
       "      <td>80.0</td>\n",
       "    </tr>\n",
       "    <tr>\n",
       "      <th>4</th>\n",
       "      <td>California</td>\n",
       "      <td>3</td>\n",
       "      <td>30.0</td>\n",
       "    </tr>\n",
       "  </tbody>\n",
       "</table>\n",
       "</div>"
      ],
      "text/plain": [
       "        state  trump_wins  percent_trump_wins\n",
       "0     Alabama           9                90.0\n",
       "1      Alaska           7                70.0\n",
       "2     Arizona           3                30.0\n",
       "3    Arkansas           8                80.0\n",
       "4  California           3                30.0"
      ]
     },
     "execution_count": 131,
     "metadata": {},
     "output_type": "execute_result"
    }
   ],
   "source": [
    "\n",
    "# Convert values to intergers\n",
    "summary = pd.DataFrame((res == 0).astype(int).sum(axis=1))\n",
    "\n",
    "# Add back states to leftmost column\n",
    "res_summary = pd.concat([poll_state_summary['state'], summary], axis=1, sort=False)\n",
    "res_summary.columns = ['state', 'trump_wins']\n",
    "\n",
    "# Get a percentage of times Trump Won in the simulations\n",
    "res_summary['percent_trump_wins'] = (res_summary['trump_wins'] / 10) * 100\n",
    "res_summary.head()\n",
    "     "
   ]
  },
  {
   "attachments": {},
   "cell_type": "markdown",
   "metadata": {},
   "source": [
    "### THIS WHERE THE SIMULATIONS HAPPEN (10K)"
   ]
  },
  {
   "cell_type": "code",
   "execution_count": null,
   "metadata": {},
   "outputs": [
    {
     "name": "stderr",
     "output_type": "stream",
     "text": [
      "C:\\Users\\RAHUL~1.AGA\\AppData\\Local\\Temp/ipykernel_17868/3535661980.py:14: PerformanceWarning:\n",
      "\n",
      "DataFrame is highly fragmented.  This is usually the result of calling `frame.insert` many times, which has poor performance.  Consider joining all columns at once using pd.concat(axis=1) instead.  To get a de-fragmented frame, use `newframe = frame.copy()`\n",
      "\n"
     ]
    },
    {
     "data": {
      "text/plain": [
       "'Joe Biden wins 8039 times out of 10000 simulations'"
      ]
     },
     "execution_count": 132,
     "metadata": {},
     "output_type": "execute_result"
    }
   ],
   "source": [
    "number_of_simulations = 10000\n",
    "\n",
    "election_results = run_election_simulation(number_of_simulations, poll_state_summary)\n",
    "election_results.loc['Total',:] = election_results.sum(axis=0)\n",
    "\n",
    "biden_wins = election_results.loc['Total'][election_results.loc['Total'] > 270.0].count()\n",
    "\n",
    "# Print output\n",
    "f\"Joe Biden wins {biden_wins} times out of {number_of_simulations} simulations\""
   ]
  },
  {
   "attachments": {},
   "cell_type": "markdown",
   "metadata": {},
   "source": [
    "#### Let's now summarize it per state"
   ]
  },
  {
   "cell_type": "code",
   "execution_count": null,
   "metadata": {},
   "outputs": [
    {
     "data": {
      "text/html": [
       "<div>\n",
       "<style scoped>\n",
       "    .dataframe tbody tr th:only-of-type {\n",
       "        vertical-align: middle;\n",
       "    }\n",
       "\n",
       "    .dataframe tbody tr th {\n",
       "        vertical-align: top;\n",
       "    }\n",
       "\n",
       "    .dataframe thead th {\n",
       "        text-align: right;\n",
       "    }\n",
       "</style>\n",
       "<table border=\"1\" class=\"dataframe\">\n",
       "  <thead>\n",
       "    <tr style=\"text-align: right;\">\n",
       "      <th></th>\n",
       "      <th>state</th>\n",
       "      <th>trump_wins</th>\n",
       "      <th>percent_trump_wins</th>\n",
       "      <th>percent_biden_wins</th>\n",
       "    </tr>\n",
       "  </thead>\n",
       "  <tbody>\n",
       "    <tr>\n",
       "      <th>0</th>\n",
       "      <td>Alabama</td>\n",
       "      <td>7824</td>\n",
       "      <td>78.24</td>\n",
       "      <td>21.76</td>\n",
       "    </tr>\n",
       "    <tr>\n",
       "      <th>1</th>\n",
       "      <td>Alaska</td>\n",
       "      <td>7422</td>\n",
       "      <td>74.22</td>\n",
       "      <td>25.78</td>\n",
       "    </tr>\n",
       "    <tr>\n",
       "      <th>2</th>\n",
       "      <td>Arizona</td>\n",
       "      <td>3739</td>\n",
       "      <td>37.39</td>\n",
       "      <td>62.61</td>\n",
       "    </tr>\n",
       "    <tr>\n",
       "      <th>3</th>\n",
       "      <td>Arkansas</td>\n",
       "      <td>7793</td>\n",
       "      <td>77.93</td>\n",
       "      <td>22.07</td>\n",
       "    </tr>\n",
       "    <tr>\n",
       "      <th>4</th>\n",
       "      <td>California</td>\n",
       "      <td>2186</td>\n",
       "      <td>21.86</td>\n",
       "      <td>78.14</td>\n",
       "    </tr>\n",
       "  </tbody>\n",
       "</table>\n",
       "</div>"
      ],
      "text/plain": [
       "        state  trump_wins  percent_trump_wins  percent_biden_wins\n",
       "0     Alabama        7824               78.24               21.76\n",
       "1      Alaska        7422               74.22               25.78\n",
       "2     Arizona        3739               37.39               62.61\n",
       "3    Arkansas        7793               77.93               22.07\n",
       "4  California        2186               21.86               78.14"
      ]
     },
     "execution_count": 135,
     "metadata": {},
     "output_type": "execute_result"
    }
   ],
   "source": [
    "\n",
    "summary = pd.DataFrame((election_results == 0).astype(int).sum(axis=1))\n",
    "res_summary = pd.concat([poll_state_summary['state'], summary], axis=1, sort=False)\n",
    "res_summary.columns = ['state', 'trump_wins']\n",
    "res_summary['percent_trump_wins'] = (res_summary['trump_wins'] / number_of_simulations) * 100\n",
    "res_summary['percent_biden_wins'] = 100 - res_summary['percent_trump_wins']\n",
    "res_summary = res_summary.dropna()\n",
    "res_summary.head()#.sort_values(by=\"trump_wins\")\n",
    "     "
   ]
  },
  {
   "cell_type": "code",
   "execution_count": null,
   "metadata": {},
   "outputs": [
    {
     "name": "stdout",
     "output_type": "stream",
     "text": [
      "350\n",
      "188\n"
     ]
    },
    {
     "data": {
      "text/html": [
       "<div>\n",
       "<style scoped>\n",
       "    .dataframe tbody tr th:only-of-type {\n",
       "        vertical-align: middle;\n",
       "    }\n",
       "\n",
       "    .dataframe tbody tr th {\n",
       "        vertical-align: top;\n",
       "    }\n",
       "\n",
       "    .dataframe thead th {\n",
       "        text-align: right;\n",
       "    }\n",
       "</style>\n",
       "<table border=\"1\" class=\"dataframe\">\n",
       "  <thead>\n",
       "    <tr style=\"text-align: right;\">\n",
       "      <th></th>\n",
       "      <th>state</th>\n",
       "      <th>trump_wins</th>\n",
       "      <th>percent_trump_wins</th>\n",
       "      <th>percent_biden_wins</th>\n",
       "      <th>seats</th>\n",
       "      <th>seats_trump_wins</th>\n",
       "      <th>seats_biden_wins</th>\n",
       "    </tr>\n",
       "  </thead>\n",
       "  <tbody>\n",
       "    <tr>\n",
       "      <th>0</th>\n",
       "      <td>Alabama</td>\n",
       "      <td>7824</td>\n",
       "      <td>78.24</td>\n",
       "      <td>21.76</td>\n",
       "      <td>9</td>\n",
       "      <td>9</td>\n",
       "      <td>0</td>\n",
       "    </tr>\n",
       "    <tr>\n",
       "      <th>1</th>\n",
       "      <td>Alaska</td>\n",
       "      <td>7422</td>\n",
       "      <td>74.22</td>\n",
       "      <td>25.78</td>\n",
       "      <td>3</td>\n",
       "      <td>3</td>\n",
       "      <td>0</td>\n",
       "    </tr>\n",
       "    <tr>\n",
       "      <th>2</th>\n",
       "      <td>Arizona</td>\n",
       "      <td>3739</td>\n",
       "      <td>37.39</td>\n",
       "      <td>62.61</td>\n",
       "      <td>11</td>\n",
       "      <td>0</td>\n",
       "      <td>11</td>\n",
       "    </tr>\n",
       "    <tr>\n",
       "      <th>3</th>\n",
       "      <td>Arkansas</td>\n",
       "      <td>7793</td>\n",
       "      <td>77.93</td>\n",
       "      <td>22.07</td>\n",
       "      <td>6</td>\n",
       "      <td>6</td>\n",
       "      <td>0</td>\n",
       "    </tr>\n",
       "    <tr>\n",
       "      <th>4</th>\n",
       "      <td>California</td>\n",
       "      <td>2186</td>\n",
       "      <td>21.86</td>\n",
       "      <td>78.14</td>\n",
       "      <td>55</td>\n",
       "      <td>0</td>\n",
       "      <td>55</td>\n",
       "    </tr>\n",
       "  </tbody>\n",
       "</table>\n",
       "</div>"
      ],
      "text/plain": [
       "        state  trump_wins  percent_trump_wins  percent_biden_wins  seats  \\\n",
       "0     Alabama        7824               78.24               21.76      9   \n",
       "1      Alaska        7422               74.22               25.78      3   \n",
       "2     Arizona        3739               37.39               62.61     11   \n",
       "3    Arkansas        7793               77.93               22.07      6   \n",
       "4  California        2186               21.86               78.14     55   \n",
       "\n",
       "   seats_trump_wins  seats_biden_wins  \n",
       "0                 9                 0  \n",
       "1                 3                 0  \n",
       "2                 0                11  \n",
       "3                 6                 0  \n",
       "4                 0                55  "
      ]
     },
     "execution_count": 137,
     "metadata": {},
     "output_type": "execute_result"
    }
   ],
   "source": [
    "\n",
    "def getSeats(row):\n",
    "    return states[row[\"state\"]]\n",
    "\n",
    "res_summary[\"seats\"] = res_summary.apply(getSeats, axis=1)\n",
    "\n",
    "res_summary['seats_trump_wins'] = res_summary['percent_trump_wins'].apply(lambda x: 1 if x > 50 else 0)\n",
    "res_summary['seats_trump_wins'] = res_summary['seats_trump_wins'] * res_summary['seats']\n",
    "\n",
    "res_summary['seats_biden_wins'] = res_summary['percent_biden_wins'].apply(lambda x: 1 if x > 50 else 0)\n",
    "res_summary['seats_biden_wins'] = res_summary['seats_biden_wins'] * res_summary['seats']\n",
    "seats_trump_wins = res_summary['seats_trump_wins'].sum()\n",
    "seats_biden_wins = res_summary['seats_biden_wins'].sum()\n",
    "print(seats_biden_wins)\n",
    "print(seats_trump_wins)\n",
    "res_summary.head()\n",
    "     "
   ]
  },
  {
   "cell_type": "code",
   "execution_count": null,
   "metadata": {},
   "outputs": [
    {
     "data": {
      "text/html": [
       "<div>\n",
       "<style scoped>\n",
       "    .dataframe tbody tr th:only-of-type {\n",
       "        vertical-align: middle;\n",
       "    }\n",
       "\n",
       "    .dataframe tbody tr th {\n",
       "        vertical-align: top;\n",
       "    }\n",
       "\n",
       "    .dataframe thead th {\n",
       "        text-align: right;\n",
       "    }\n",
       "</style>\n",
       "<table border=\"1\" class=\"dataframe\">\n",
       "  <thead>\n",
       "    <tr style=\"text-align: right;\">\n",
       "      <th></th>\n",
       "      <th>state</th>\n",
       "      <th>trump_wins</th>\n",
       "      <th>percent_trump_wins</th>\n",
       "      <th>percent_biden_wins</th>\n",
       "      <th>seats</th>\n",
       "      <th>seats_trump_wins</th>\n",
       "      <th>seats_biden_wins</th>\n",
       "    </tr>\n",
       "  </thead>\n",
       "  <tbody>\n",
       "    <tr>\n",
       "      <th>0</th>\n",
       "      <td>AL</td>\n",
       "      <td>7824</td>\n",
       "      <td>78.24</td>\n",
       "      <td>21.76</td>\n",
       "      <td>9</td>\n",
       "      <td>9</td>\n",
       "      <td>0</td>\n",
       "    </tr>\n",
       "    <tr>\n",
       "      <th>1</th>\n",
       "      <td>AK</td>\n",
       "      <td>7422</td>\n",
       "      <td>74.22</td>\n",
       "      <td>25.78</td>\n",
       "      <td>3</td>\n",
       "      <td>3</td>\n",
       "      <td>0</td>\n",
       "    </tr>\n",
       "    <tr>\n",
       "      <th>2</th>\n",
       "      <td>AZ</td>\n",
       "      <td>3739</td>\n",
       "      <td>37.39</td>\n",
       "      <td>62.61</td>\n",
       "      <td>11</td>\n",
       "      <td>0</td>\n",
       "      <td>11</td>\n",
       "    </tr>\n",
       "    <tr>\n",
       "      <th>3</th>\n",
       "      <td>AR</td>\n",
       "      <td>7793</td>\n",
       "      <td>77.93</td>\n",
       "      <td>22.07</td>\n",
       "      <td>6</td>\n",
       "      <td>6</td>\n",
       "      <td>0</td>\n",
       "    </tr>\n",
       "    <tr>\n",
       "      <th>4</th>\n",
       "      <td>CA</td>\n",
       "      <td>2186</td>\n",
       "      <td>21.86</td>\n",
       "      <td>78.14</td>\n",
       "      <td>55</td>\n",
       "      <td>0</td>\n",
       "      <td>55</td>\n",
       "    </tr>\n",
       "  </tbody>\n",
       "</table>\n",
       "</div>"
      ],
      "text/plain": [
       "  state  trump_wins  percent_trump_wins  percent_biden_wins  seats  \\\n",
       "0    AL        7824               78.24               21.76      9   \n",
       "1    AK        7422               74.22               25.78      3   \n",
       "2    AZ        3739               37.39               62.61     11   \n",
       "3    AR        7793               77.93               22.07      6   \n",
       "4    CA        2186               21.86               78.14     55   \n",
       "\n",
       "   seats_trump_wins  seats_biden_wins  \n",
       "0                 9                 0  \n",
       "1                 3                 0  \n",
       "2                 0                11  \n",
       "3                 6                 0  \n",
       "4                 0                55  "
      ]
     },
     "execution_count": 138,
     "metadata": {},
     "output_type": "execute_result"
    }
   ],
   "source": [
    "us_state_abbrev = {\n",
    "    'Alabama': 'AL',\n",
    "    'Alaska': 'AK',\n",
    "    'American Samoa': 'AS',\n",
    "    'Arizona': 'AZ',\n",
    "    'Arkansas': 'AR',\n",
    "    'California': 'CA',\n",
    "    'Colorado': 'CO',\n",
    "    'Connecticut': 'CT',\n",
    "    'Delaware': 'DE',\n",
    "    'District of Columbia': 'DC',\n",
    "    'Florida': 'FL',\n",
    "    'Georgia': 'GA',\n",
    "    'Guam': 'GU',\n",
    "    'Hawaii': 'HI',\n",
    "    'Idaho': 'ID',\n",
    "    'Illinois': 'IL',\n",
    "    'Indiana': 'IN',\n",
    "    'Iowa': 'IA',\n",
    "    'Kansas': 'KS',\n",
    "    'Kentucky': 'KY',\n",
    "    'Louisiana': 'LA',\n",
    "    'Maine': 'ME',\n",
    "    'Maryland': 'MD',\n",
    "    'Massachusetts': 'MA',\n",
    "    'Michigan': 'MI',\n",
    "    'Minnesota': 'MN',\n",
    "    'Mississippi': 'MS',\n",
    "    'Missouri': 'MO',\n",
    "    'Montana': 'MT',\n",
    "    'Nebraska': 'NE',\n",
    "    'Nevada': 'NV',\n",
    "    'New Hampshire': 'NH',\n",
    "    'New Jersey': 'NJ',\n",
    "    'New Mexico': 'NM',\n",
    "    'New York': 'NY',\n",
    "    'North Carolina': 'NC',\n",
    "    'North Dakota': 'ND',\n",
    "    'Northern Mariana Islands':'MP',\n",
    "    'Ohio': 'OH',\n",
    "    'Oklahoma': 'OK',\n",
    "    'Oregon': 'OR',\n",
    "    'Pennsylvania': 'PA',\n",
    "    'Puerto Rico': 'PR',\n",
    "    'Rhode Island': 'RI',\n",
    "    'South Carolina': 'SC',\n",
    "    'South Dakota': 'SD',\n",
    "    'Tennessee': 'TN',\n",
    "    'Texas': 'TX',\n",
    "    'Utah': 'UT',\n",
    "    'Vermont': 'VT',\n",
    "    'Virgin Islands': 'VI',\n",
    "    'Virginia': 'VA',\n",
    "    'Washington': 'WA',\n",
    "    'West Virginia': 'WV',\n",
    "    'Wisconsin': 'WI',\n",
    "    'Wyoming': 'WY'\n",
    "}\n",
    "\n",
    "res_summary = res_summary.replace({\"state\": us_state_abbrev}) \n",
    "res_summary.head()\n",
    "     \n"
   ]
  },
  {
   "cell_type": "code",
   "execution_count": null,
   "metadata": {},
   "outputs": [
    {
     "data": {
      "application/vnd.plotly.v1+json": {
       "config": {
        "plotlyServerURL": "https://plot.ly"
       },
       "data": [
        {
         "colorbar": {
          "title": {
           "text": "Trump"
          }
         },
         "colorscale": [
          [
           0,
           "rgb(0,0,255)"
          ],
          [
           1,
           "rgb(255,0,0)"
          ]
         ],
         "locationmode": "USA-states",
         "locations": [
          "AL",
          "AK",
          "AZ",
          "AR",
          "CA",
          "CO",
          "CT",
          "DE",
          "DC",
          "FL",
          "GA",
          "HI",
          "ID",
          "IL",
          "IN",
          "IA",
          "KS",
          "KY",
          "LA",
          "ME",
          "MD",
          "MA",
          "MI",
          "MN",
          "MS",
          "MO",
          "MT",
          "NE",
          "NV",
          "NH",
          "NJ",
          "NM",
          "NY",
          "NC",
          "ND",
          "OH",
          "OK",
          "OR",
          "PA",
          "RI",
          "SC",
          "SD",
          "TN",
          "TX",
          "UT",
          "VT",
          "VA",
          "WA",
          "WV",
          "WI",
          "WY"
         ],
         "type": "choropleth",
         "z": [
          78.24,
          74.22,
          37.39,
          77.92999999999999,
          21.86,
          26.27,
          22.470000000000002,
          21.279999999999998,
          18.740000000000002,
          39.94,
          44.66,
          21.32,
          79.09,
          22.37,
          74.52,
          56.49999999999999,
          73.4,
          78.43,
          77.84,
          27.52,
          20.080000000000002,
          20.02,
          33.45,
          28.7,
          77.03999999999999,
          73.26,
          75.21,
          64.91,
          34.910000000000004,
          26.52,
          24.349999999999998,
          29.21,
          20.87,
          40.58,
          79.84,
          57.97,
          78.52,
          23.56,
          34.17,
          19.71,
          71.91,
          76.13,
          76.7,
          55.97,
          76.14999999999999,
          21.7,
          26.8,
          22.869999999999997,
          81.08,
          31.919999999999998,
          80.25999999999999
         ]
        }
       ],
       "layout": {
        "geo": {
         "scope": "usa"
        },
        "template": {
         "data": {
          "bar": [
           {
            "error_x": {
             "color": "#2a3f5f"
            },
            "error_y": {
             "color": "#2a3f5f"
            },
            "marker": {
             "line": {
              "color": "#E5ECF6",
              "width": 0.5
             },
             "pattern": {
              "fillmode": "overlay",
              "size": 10,
              "solidity": 0.2
             }
            },
            "type": "bar"
           }
          ],
          "barpolar": [
           {
            "marker": {
             "line": {
              "color": "#E5ECF6",
              "width": 0.5
             },
             "pattern": {
              "fillmode": "overlay",
              "size": 10,
              "solidity": 0.2
             }
            },
            "type": "barpolar"
           }
          ],
          "carpet": [
           {
            "aaxis": {
             "endlinecolor": "#2a3f5f",
             "gridcolor": "white",
             "linecolor": "white",
             "minorgridcolor": "white",
             "startlinecolor": "#2a3f5f"
            },
            "baxis": {
             "endlinecolor": "#2a3f5f",
             "gridcolor": "white",
             "linecolor": "white",
             "minorgridcolor": "white",
             "startlinecolor": "#2a3f5f"
            },
            "type": "carpet"
           }
          ],
          "choropleth": [
           {
            "colorbar": {
             "outlinewidth": 0,
             "ticks": ""
            },
            "type": "choropleth"
           }
          ],
          "contour": [
           {
            "colorbar": {
             "outlinewidth": 0,
             "ticks": ""
            },
            "colorscale": [
             [
              0,
              "#0d0887"
             ],
             [
              0.1111111111111111,
              "#46039f"
             ],
             [
              0.2222222222222222,
              "#7201a8"
             ],
             [
              0.3333333333333333,
              "#9c179e"
             ],
             [
              0.4444444444444444,
              "#bd3786"
             ],
             [
              0.5555555555555556,
              "#d8576b"
             ],
             [
              0.6666666666666666,
              "#ed7953"
             ],
             [
              0.7777777777777778,
              "#fb9f3a"
             ],
             [
              0.8888888888888888,
              "#fdca26"
             ],
             [
              1,
              "#f0f921"
             ]
            ],
            "type": "contour"
           }
          ],
          "contourcarpet": [
           {
            "colorbar": {
             "outlinewidth": 0,
             "ticks": ""
            },
            "type": "contourcarpet"
           }
          ],
          "heatmap": [
           {
            "colorbar": {
             "outlinewidth": 0,
             "ticks": ""
            },
            "colorscale": [
             [
              0,
              "#0d0887"
             ],
             [
              0.1111111111111111,
              "#46039f"
             ],
             [
              0.2222222222222222,
              "#7201a8"
             ],
             [
              0.3333333333333333,
              "#9c179e"
             ],
             [
              0.4444444444444444,
              "#bd3786"
             ],
             [
              0.5555555555555556,
              "#d8576b"
             ],
             [
              0.6666666666666666,
              "#ed7953"
             ],
             [
              0.7777777777777778,
              "#fb9f3a"
             ],
             [
              0.8888888888888888,
              "#fdca26"
             ],
             [
              1,
              "#f0f921"
             ]
            ],
            "type": "heatmap"
           }
          ],
          "heatmapgl": [
           {
            "colorbar": {
             "outlinewidth": 0,
             "ticks": ""
            },
            "colorscale": [
             [
              0,
              "#0d0887"
             ],
             [
              0.1111111111111111,
              "#46039f"
             ],
             [
              0.2222222222222222,
              "#7201a8"
             ],
             [
              0.3333333333333333,
              "#9c179e"
             ],
             [
              0.4444444444444444,
              "#bd3786"
             ],
             [
              0.5555555555555556,
              "#d8576b"
             ],
             [
              0.6666666666666666,
              "#ed7953"
             ],
             [
              0.7777777777777778,
              "#fb9f3a"
             ],
             [
              0.8888888888888888,
              "#fdca26"
             ],
             [
              1,
              "#f0f921"
             ]
            ],
            "type": "heatmapgl"
           }
          ],
          "histogram": [
           {
            "marker": {
             "pattern": {
              "fillmode": "overlay",
              "size": 10,
              "solidity": 0.2
             }
            },
            "type": "histogram"
           }
          ],
          "histogram2d": [
           {
            "colorbar": {
             "outlinewidth": 0,
             "ticks": ""
            },
            "colorscale": [
             [
              0,
              "#0d0887"
             ],
             [
              0.1111111111111111,
              "#46039f"
             ],
             [
              0.2222222222222222,
              "#7201a8"
             ],
             [
              0.3333333333333333,
              "#9c179e"
             ],
             [
              0.4444444444444444,
              "#bd3786"
             ],
             [
              0.5555555555555556,
              "#d8576b"
             ],
             [
              0.6666666666666666,
              "#ed7953"
             ],
             [
              0.7777777777777778,
              "#fb9f3a"
             ],
             [
              0.8888888888888888,
              "#fdca26"
             ],
             [
              1,
              "#f0f921"
             ]
            ],
            "type": "histogram2d"
           }
          ],
          "histogram2dcontour": [
           {
            "colorbar": {
             "outlinewidth": 0,
             "ticks": ""
            },
            "colorscale": [
             [
              0,
              "#0d0887"
             ],
             [
              0.1111111111111111,
              "#46039f"
             ],
             [
              0.2222222222222222,
              "#7201a8"
             ],
             [
              0.3333333333333333,
              "#9c179e"
             ],
             [
              0.4444444444444444,
              "#bd3786"
             ],
             [
              0.5555555555555556,
              "#d8576b"
             ],
             [
              0.6666666666666666,
              "#ed7953"
             ],
             [
              0.7777777777777778,
              "#fb9f3a"
             ],
             [
              0.8888888888888888,
              "#fdca26"
             ],
             [
              1,
              "#f0f921"
             ]
            ],
            "type": "histogram2dcontour"
           }
          ],
          "mesh3d": [
           {
            "colorbar": {
             "outlinewidth": 0,
             "ticks": ""
            },
            "type": "mesh3d"
           }
          ],
          "parcoords": [
           {
            "line": {
             "colorbar": {
              "outlinewidth": 0,
              "ticks": ""
             }
            },
            "type": "parcoords"
           }
          ],
          "pie": [
           {
            "automargin": true,
            "type": "pie"
           }
          ],
          "scatter": [
           {
            "fillpattern": {
             "fillmode": "overlay",
             "size": 10,
             "solidity": 0.2
            },
            "type": "scatter"
           }
          ],
          "scatter3d": [
           {
            "line": {
             "colorbar": {
              "outlinewidth": 0,
              "ticks": ""
             }
            },
            "marker": {
             "colorbar": {
              "outlinewidth": 0,
              "ticks": ""
             }
            },
            "type": "scatter3d"
           }
          ],
          "scattercarpet": [
           {
            "marker": {
             "colorbar": {
              "outlinewidth": 0,
              "ticks": ""
             }
            },
            "type": "scattercarpet"
           }
          ],
          "scattergeo": [
           {
            "marker": {
             "colorbar": {
              "outlinewidth": 0,
              "ticks": ""
             }
            },
            "type": "scattergeo"
           }
          ],
          "scattergl": [
           {
            "marker": {
             "colorbar": {
              "outlinewidth": 0,
              "ticks": ""
             }
            },
            "type": "scattergl"
           }
          ],
          "scattermapbox": [
           {
            "marker": {
             "colorbar": {
              "outlinewidth": 0,
              "ticks": ""
             }
            },
            "type": "scattermapbox"
           }
          ],
          "scatterpolar": [
           {
            "marker": {
             "colorbar": {
              "outlinewidth": 0,
              "ticks": ""
             }
            },
            "type": "scatterpolar"
           }
          ],
          "scatterpolargl": [
           {
            "marker": {
             "colorbar": {
              "outlinewidth": 0,
              "ticks": ""
             }
            },
            "type": "scatterpolargl"
           }
          ],
          "scatterternary": [
           {
            "marker": {
             "colorbar": {
              "outlinewidth": 0,
              "ticks": ""
             }
            },
            "type": "scatterternary"
           }
          ],
          "surface": [
           {
            "colorbar": {
             "outlinewidth": 0,
             "ticks": ""
            },
            "colorscale": [
             [
              0,
              "#0d0887"
             ],
             [
              0.1111111111111111,
              "#46039f"
             ],
             [
              0.2222222222222222,
              "#7201a8"
             ],
             [
              0.3333333333333333,
              "#9c179e"
             ],
             [
              0.4444444444444444,
              "#bd3786"
             ],
             [
              0.5555555555555556,
              "#d8576b"
             ],
             [
              0.6666666666666666,
              "#ed7953"
             ],
             [
              0.7777777777777778,
              "#fb9f3a"
             ],
             [
              0.8888888888888888,
              "#fdca26"
             ],
             [
              1,
              "#f0f921"
             ]
            ],
            "type": "surface"
           }
          ],
          "table": [
           {
            "cells": {
             "fill": {
              "color": "#EBF0F8"
             },
             "line": {
              "color": "white"
             }
            },
            "header": {
             "fill": {
              "color": "#C8D4E3"
             },
             "line": {
              "color": "white"
             }
            },
            "type": "table"
           }
          ]
         },
         "layout": {
          "annotationdefaults": {
           "arrowcolor": "#2a3f5f",
           "arrowhead": 0,
           "arrowwidth": 1
          },
          "autotypenumbers": "strict",
          "coloraxis": {
           "colorbar": {
            "outlinewidth": 0,
            "ticks": ""
           }
          },
          "colorscale": {
           "diverging": [
            [
             0,
             "#8e0152"
            ],
            [
             0.1,
             "#c51b7d"
            ],
            [
             0.2,
             "#de77ae"
            ],
            [
             0.3,
             "#f1b6da"
            ],
            [
             0.4,
             "#fde0ef"
            ],
            [
             0.5,
             "#f7f7f7"
            ],
            [
             0.6,
             "#e6f5d0"
            ],
            [
             0.7,
             "#b8e186"
            ],
            [
             0.8,
             "#7fbc41"
            ],
            [
             0.9,
             "#4d9221"
            ],
            [
             1,
             "#276419"
            ]
           ],
           "sequential": [
            [
             0,
             "#0d0887"
            ],
            [
             0.1111111111111111,
             "#46039f"
            ],
            [
             0.2222222222222222,
             "#7201a8"
            ],
            [
             0.3333333333333333,
             "#9c179e"
            ],
            [
             0.4444444444444444,
             "#bd3786"
            ],
            [
             0.5555555555555556,
             "#d8576b"
            ],
            [
             0.6666666666666666,
             "#ed7953"
            ],
            [
             0.7777777777777778,
             "#fb9f3a"
            ],
            [
             0.8888888888888888,
             "#fdca26"
            ],
            [
             1,
             "#f0f921"
            ]
           ],
           "sequentialminus": [
            [
             0,
             "#0d0887"
            ],
            [
             0.1111111111111111,
             "#46039f"
            ],
            [
             0.2222222222222222,
             "#7201a8"
            ],
            [
             0.3333333333333333,
             "#9c179e"
            ],
            [
             0.4444444444444444,
             "#bd3786"
            ],
            [
             0.5555555555555556,
             "#d8576b"
            ],
            [
             0.6666666666666666,
             "#ed7953"
            ],
            [
             0.7777777777777778,
             "#fb9f3a"
            ],
            [
             0.8888888888888888,
             "#fdca26"
            ],
            [
             1,
             "#f0f921"
            ]
           ]
          },
          "colorway": [
           "#636efa",
           "#EF553B",
           "#00cc96",
           "#ab63fa",
           "#FFA15A",
           "#19d3f3",
           "#FF6692",
           "#B6E880",
           "#FF97FF",
           "#FECB52"
          ],
          "font": {
           "color": "#2a3f5f"
          },
          "geo": {
           "bgcolor": "white",
           "lakecolor": "white",
           "landcolor": "#E5ECF6",
           "showlakes": true,
           "showland": true,
           "subunitcolor": "white"
          },
          "hoverlabel": {
           "align": "left"
          },
          "hovermode": "closest",
          "mapbox": {
           "style": "light"
          },
          "paper_bgcolor": "white",
          "plot_bgcolor": "#E5ECF6",
          "polar": {
           "angularaxis": {
            "gridcolor": "white",
            "linecolor": "white",
            "ticks": ""
           },
           "bgcolor": "#E5ECF6",
           "radialaxis": {
            "gridcolor": "white",
            "linecolor": "white",
            "ticks": ""
           }
          },
          "scene": {
           "xaxis": {
            "backgroundcolor": "#E5ECF6",
            "gridcolor": "white",
            "gridwidth": 2,
            "linecolor": "white",
            "showbackground": true,
            "ticks": "",
            "zerolinecolor": "white"
           },
           "yaxis": {
            "backgroundcolor": "#E5ECF6",
            "gridcolor": "white",
            "gridwidth": 2,
            "linecolor": "white",
            "showbackground": true,
            "ticks": "",
            "zerolinecolor": "white"
           },
           "zaxis": {
            "backgroundcolor": "#E5ECF6",
            "gridcolor": "white",
            "gridwidth": 2,
            "linecolor": "white",
            "showbackground": true,
            "ticks": "",
            "zerolinecolor": "white"
           }
          },
          "shapedefaults": {
           "line": {
            "color": "#2a3f5f"
           }
          },
          "ternary": {
           "aaxis": {
            "gridcolor": "white",
            "linecolor": "white",
            "ticks": ""
           },
           "baxis": {
            "gridcolor": "white",
            "linecolor": "white",
            "ticks": ""
           },
           "bgcolor": "#E5ECF6",
           "caxis": {
            "gridcolor": "white",
            "linecolor": "white",
            "ticks": ""
           }
          },
          "title": {
           "x": 0.05
          },
          "xaxis": {
           "automargin": true,
           "gridcolor": "white",
           "linecolor": "white",
           "ticks": "",
           "title": {
            "standoff": 15
           },
           "zerolinecolor": "white",
           "zerolinewidth": 2
          },
          "yaxis": {
           "automargin": true,
           "gridcolor": "white",
           "linecolor": "white",
           "ticks": "",
           "title": {
            "standoff": 15
           },
           "zerolinecolor": "white",
           "zerolinewidth": 2
          }
         }
        },
        "title": {
         "text": "10000 Simulations of the 2020 US Election show Biden winning 350 and Trump winning 188 Seats"
        }
       }
      }
     },
     "metadata": {},
     "output_type": "display_data"
    }
   ],
   "source": [
    "\n",
    "import plotly.graph_objects as go\n",
    "\n",
    "fig = go.Figure(data=go.Choropleth(\n",
    "    locations = res_summary['state'], # Spatial coordinates\n",
    "    z = res_summary['percent_trump_wins'].astype(float), # Data to be color-coded\n",
    "    locationmode = 'USA-states', # set of locations match entries in `locations`\n",
    "    colorscale = 'Bluered',\n",
    "    colorbar_title = \"Trump\",\n",
    "))\n",
    "\n",
    "title = f'{number_of_simulations} Simulations of the 2020 US Election show Biden winning {seats_biden_wins} and Trump winning {seats_trump_wins} Seats'\n",
    "fig.update_layout(\n",
    "    title_text = title, #'2020 Simulation of The US Presidential Election',\n",
    "    geo_scope='usa', # limite map scope to USA\n",
    ")\n",
    "\n",
    "fig.show()"
   ]
  },
  {
   "cell_type": "code",
   "execution_count": null,
   "metadata": {},
   "outputs": [],
   "source": []
  }
 ],
 "metadata": {
  "kernelspec": {
   "display_name": "Python 3.10.1 64-bit",
   "language": "python",
   "name": "python3"
  },
  "language_info": {
   "codemirror_mode": {
    "name": "ipython",
    "version": 3
   },
   "file_extension": ".py",
   "mimetype": "text/x-python",
   "name": "python",
   "nbconvert_exporter": "python",
   "pygments_lexer": "ipython3",
   "version": "3.10.1"
  },
  "orig_nbformat": 4,
  "vscode": {
   "interpreter": {
    "hash": "369f2c481f4da34e4445cda3fffd2e751bd1c4d706f27375911949ba6bb62e1c"
   }
  }
 },
 "nbformat": 4,
 "nbformat_minor": 2
}
